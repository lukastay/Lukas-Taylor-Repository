{
  "nbformat": 4,
  "nbformat_minor": 0,
  "metadata": {
    "colab": {
      "provenance": []
    },
    "kernelspec": {
      "name": "python3",
      "display_name": "Python 3"
    },
    "language_info": {
      "name": "python"
    }
  },
  "cells": [
    {
      "cell_type": "markdown",
      "source": [
        "##Importing Data\n"
      ],
      "metadata": {
        "id": "ZhWQPTLuys1n"
      }
    },
    {
      "cell_type": "markdown",
      "source": [
        "Sources: https://colab.research.google.com/drive/1V7hnyYuY_dUXQEPkCMZkgMuBFQV4iA_4?usp=sharing#scrollTo=WNTbazGtI523"
      ],
      "metadata": {
        "id": "FlP0l38F9M9S"
      }
    },
    {
      "cell_type": "markdown",
      "source": [
        "Fetching Files"
      ],
      "metadata": {
        "id": "R0nRIu93WCyV"
      }
    },
    {
      "cell_type": "code",
      "source": [
        "! pip install -q --upgrade git+https://github.com/SafeGraphInc/safegraph_py"
      ],
      "metadata": {
        "colab": {
          "base_uri": "https://localhost:8080/"
        },
        "id": "hULLycqSyvmI",
        "outputId": "e1d8b677-87ae-4dd3-e346-86cc9900b460"
      },
      "execution_count": null,
      "outputs": [
        {
          "output_type": "stream",
          "name": "stdout",
          "text": [
            "  Preparing metadata (setup.py) ... \u001b[?25l\u001b[?25hdone\n"
          ]
        }
      ]
    },
    {
      "cell_type": "code",
      "source": [
        "from safegraph_py_functions import safegraph_py_functions as sgpy"
      ],
      "metadata": {
        "id": "jprr84JeyzE1"
      },
      "execution_count": null,
      "outputs": []
    },
    {
      "cell_type": "code",
      "source": [
        "# If you need to run test data, you can connect to your Google drive HERE\n",
        "\n",
        "from google.colab import drive as mountGoogleDrive \n",
        "\n",
        "your_name = \"Luke\" # << If you want to customize the code, then you should edit this\n",
        "################################\n",
        "print(f\"Hello {your_name}, to mount your google drive you will need to click on the link and copy/paste the code.\")\n",
        "################################\n",
        "# These commands allow the notebook to read your data from your GoogleDrive\n",
        "mountGoogleDrive.mount('/content/Safegraph')\n",
        "print(f\"Congrats {your_name}, you mounted your google drive!\")"
      ],
      "metadata": {
        "id": "7sPYlxPyy0ad",
        "colab": {
          "base_uri": "https://localhost:8080/"
        },
        "outputId": "ade073f4-6a97-4aec-8828-f563a795c6f8"
      },
      "execution_count": null,
      "outputs": [
        {
          "output_type": "stream",
          "name": "stdout",
          "text": [
            "Hello Luke, to mount your google drive you will need to click on the link and copy/paste the code.\n",
            "Mounted at /content/Safegraph\n",
            "Congrats Luke, you mounted your google drive!\n"
          ]
        }
      ]
    },
    {
      "cell_type": "markdown",
      "source": [
        "Old Code For Getting All Values In Multiple Files"
      ],
      "metadata": {
        "id": "a98v9X_UWFWW"
      }
    },
    {
      "cell_type": "code",
      "source": [
        "#multi_file_path = r'/content/Safegraph/MyDrive/Safegraph/part1'"
      ],
      "metadata": {
        "id": "Ncj09P7V13Ka"
      },
      "execution_count": null,
      "outputs": []
    },
    {
      "cell_type": "code",
      "source": [
        "#multi_pattern_demo = sgpy.read_pattern_multi(multi_file_path)"
      ],
      "metadata": {
        "id": "FeoAyRdv19I7"
      },
      "execution_count": null,
      "outputs": []
    },
    {
      "cell_type": "code",
      "source": [
        "#multi_pattern_demo.head()"
      ],
      "metadata": {
        "id": "VILe-gLd1_Xo"
      },
      "execution_count": null,
      "outputs": []
    },
    {
      "cell_type": "code",
      "source": [
        "#for col in multi_pattern_demo.columns:\n",
        "    #print(col)"
      ],
      "metadata": {
        "id": "8hn7nYIf8Q1Q"
      },
      "execution_count": null,
      "outputs": []
    },
    {
      "cell_type": "markdown",
      "source": [
        "Finding Possible Column Names"
      ],
      "metadata": {
        "id": "XYg53d87V-6p"
      }
    },
    {
      "cell_type": "code",
      "source": [
        "single_file_path = r'/content/Safegraph/MyDrive/Safegraph/part1/core_poi-geometry-patterns-part1.csv.gz'\n",
        "single_pattern_test = sgpy.read_pattern_single(single_file_path)\n",
        "custom_single_pattern = sgpy.read_pattern_single(single_file_path, nrows=1)\n",
        "for col in custom_single_pattern:\n",
        "    print(col)"
      ],
      "metadata": {
        "colab": {
          "base_uri": "https://localhost:8080/"
        },
        "id": "bEYBcr97UFhu",
        "outputId": "d8157cb8-3c81-4bb2-d2e3-cedf1c0af9a7"
      },
      "execution_count": null,
      "outputs": [
        {
          "output_type": "stream",
          "name": "stdout",
          "text": [
            "placekey\n",
            "parent_placekey\n",
            "safegraph_brand_ids\n",
            "location_name\n",
            "brands\n",
            "store_id\n",
            "top_category\n",
            "sub_category\n",
            "naics_code\n",
            "latitude\n",
            "longitude\n",
            "street_address\n",
            "city\n",
            "region\n",
            "postal_code\n",
            "open_hours\n",
            "category_tags\n",
            "opened_on\n",
            "closed_on\n",
            "tracking_closed_since\n",
            "websites\n",
            "geometry_type\n",
            "polygon_wkt\n",
            "polygon_class\n",
            "enclosed\n",
            "phone_number\n",
            "is_synthetic\n",
            "includes_parking_lot\n",
            "iso_country_code\n",
            "wkt_area_sq_meters\n",
            "date_range_start\n",
            "date_range_end\n",
            "raw_visit_counts\n",
            "raw_visitor_counts\n",
            "visits_by_day\n",
            "visits_by_each_hour\n",
            "poi_cbg\n",
            "visitor_home_cbgs\n",
            "visitor_home_aggregation\n",
            "visitor_daytime_cbgs\n",
            "visitor_country_of_origin\n",
            "distance_from_home\n",
            "median_dwell\n",
            "bucketed_dwell_times\n",
            "related_same_day_brand\n",
            "related_same_week_brand\n",
            "device_type\n",
            "normalized_visits_by_state_scaling\n",
            "normalized_visits_by_region_naics_visits\n",
            "normalized_visits_by_region_naics_visitors\n",
            "normalized_visits_by_total_visits\n",
            "normalized_visits_by_total_visitors\n"
          ]
        }
      ]
    },
    {
      "cell_type": "markdown",
      "source": [
        "Freeing Up RAM"
      ],
      "metadata": {
        "id": "M1SNVeVxWKxu"
      }
    },
    {
      "cell_type": "code",
      "source": [
        "import gc\n",
        "try:\n",
        "  del single_pattern_test\n",
        "except:\n",
        "  pass\n",
        "try:\n",
        "  del custom_single_pattern\n",
        "except:\n",
        "  pass\n",
        "try:\n",
        "  gc.collect()\n",
        "except:\n",
        "  pass"
      ],
      "metadata": {
        "id": "n5J4L_hKV2GE"
      },
      "execution_count": null,
      "outputs": []
    },
    {
      "cell_type": "markdown",
      "source": [
        "Importing Dataframe To Use"
      ],
      "metadata": {
        "id": "yzFwIcOIWM1R"
      }
    },
    {
      "cell_type": "code",
      "source": [
        "all_path = r'/content/Safegraph/MyDrive/Safegraph2'"
      ],
      "metadata": {
        "id": "R3aHrAo7HHuL"
      },
      "execution_count": null,
      "outputs": []
    },
    {
      "cell_type": "code",
      "source": [
        "multi_pattern_custom_demo = sgpy.read_pattern_multi(all_path, usecols=['placekey','latitude', 'longitude', 'raw_visit_counts', 'raw_visitor_counts','date_range_start','date_range_end'])\n"
      ],
      "metadata": {
        "colab": {
          "base_uri": "https://localhost:8080/"
        },
        "id": "fCapfiUF9jbF",
        "outputId": "2e92a8e8-3df2-4b1b-f166-9a540a336062"
      },
      "execution_count": null,
      "outputs": [
        {
          "output_type": "stream",
          "name": "stdout",
          "text": [
            "/content/Safegraph/MyDrive/Safegraph2/core_poi-geometry-patterns-part9.csv.gz\n",
            "/content/Safegraph/MyDrive/Safegraph2/core_poi-geometry-patterns-part7.csv.gz\n",
            "/content/Safegraph/MyDrive/Safegraph2/core_poi-geometry-patterns-part4.csv.gz\n",
            "/content/Safegraph/MyDrive/Safegraph2/core_poi-geometry-patterns-part5.csv.gz\n",
            "/content/Safegraph/MyDrive/Safegraph2/core_poi-geometry-patterns-part6.csv.gz\n",
            "/content/Safegraph/MyDrive/Safegraph2/core_poi-geometry-patterns-part8.csv.gz\n",
            "/content/Safegraph/MyDrive/Safegraph2/core_poi-geometry-patterns-part2.csv.gz\n",
            "/content/Safegraph/MyDrive/Safegraph2/core_poi-geometry-patterns-part18.csv.gz\n",
            "/content/Safegraph/MyDrive/Safegraph2/core_poi-geometry-patterns-part1.csv.gz\n",
            "/content/Safegraph/MyDrive/Safegraph2/core_poi-geometry-patterns-part20.csv.gz\n",
            "/content/Safegraph/MyDrive/Safegraph2/core_poi-geometry-patterns-part19.csv.gz\n",
            "/content/Safegraph/MyDrive/Safegraph2/core_poi-geometry-patterns-part22.csv.gz\n",
            "/content/Safegraph/MyDrive/Safegraph2/core_poi-geometry-patterns-part3.csv.gz\n",
            "/content/Safegraph/MyDrive/Safegraph2/core_poi-geometry-patterns-part17.csv.gz\n",
            "/content/Safegraph/MyDrive/Safegraph2/core_poi-geometry-patterns-part14.csv.gz\n",
            "/content/Safegraph/MyDrive/Safegraph2/core_poi-geometry-patterns-part15.csv.gz\n",
            "/content/Safegraph/MyDrive/Safegraph2/core_poi-geometry-patterns-part13.csv.gz\n",
            "/content/Safegraph/MyDrive/Safegraph2/core_poi-geometry-patterns-part21.csv.gz\n",
            "/content/Safegraph/MyDrive/Safegraph2/core_poi-geometry-patterns-part16.csv.gz\n",
            "/content/Safegraph/MyDrive/Safegraph2/core_poi-geometry-patterns-part10.csv.gz\n",
            "/content/Safegraph/MyDrive/Safegraph2/core_poi-geometry-patterns-part11.csv.gz\n",
            "/content/Safegraph/MyDrive/Safegraph2/core_poi-geometry-patterns-part12.csv.gz\n"
          ]
        }
      ]
    },
    {
      "cell_type": "code",
      "source": [
        "multi_pattern_custom_demo.head()"
      ],
      "metadata": {
        "id": "8bKNTXdq-iQw",
        "colab": {
          "base_uri": "https://localhost:8080/",
          "height": 204
        },
        "outputId": "727aafa3-51c4-416e-f120-778e8839126d"
      },
      "execution_count": null,
      "outputs": [
        {
          "output_type": "execute_result",
          "data": {
            "text/plain": [
              "              placekey   latitude   longitude           date_range_start  \\\n",
              "0  zzw-22g@8g7-47z-4n5  33.801432  -84.328183  2018-01-01T00:00:00-05:00   \n",
              "1  223-222@8gd-nfm-gff  31.848279  -81.550946  2018-01-01T00:00:00-05:00   \n",
              "2  zzy-222@665-zbs-2hq  43.635003  -79.425937                        NaN   \n",
              "3  224-226@8tr-zb8-hdv  32.340824 -111.014954                        NaN   \n",
              "4  22b-222@5s8-cjs-rx5  44.969912  -93.125358  2018-01-01T00:00:00-06:00   \n",
              "\n",
              "              date_range_end  raw_visit_counts  raw_visitor_counts  \n",
              "0  2018-01-08T00:00:00-05:00             153.0               127.0  \n",
              "1  2018-01-08T00:00:00-05:00               1.0                 1.0  \n",
              "2                        NaN               NaN                 NaN  \n",
              "3                        NaN               NaN                 NaN  \n",
              "4  2018-01-08T00:00:00-06:00               2.0                 2.0  "
            ],
            "text/html": [
              "\n",
              "  <div id=\"df-b7ab3279-e943-410c-a9d1-30b7a6e98ea8\">\n",
              "    <div class=\"colab-df-container\">\n",
              "      <div>\n",
              "<style scoped>\n",
              "    .dataframe tbody tr th:only-of-type {\n",
              "        vertical-align: middle;\n",
              "    }\n",
              "\n",
              "    .dataframe tbody tr th {\n",
              "        vertical-align: top;\n",
              "    }\n",
              "\n",
              "    .dataframe thead th {\n",
              "        text-align: right;\n",
              "    }\n",
              "</style>\n",
              "<table border=\"1\" class=\"dataframe\">\n",
              "  <thead>\n",
              "    <tr style=\"text-align: right;\">\n",
              "      <th></th>\n",
              "      <th>placekey</th>\n",
              "      <th>latitude</th>\n",
              "      <th>longitude</th>\n",
              "      <th>date_range_start</th>\n",
              "      <th>date_range_end</th>\n",
              "      <th>raw_visit_counts</th>\n",
              "      <th>raw_visitor_counts</th>\n",
              "    </tr>\n",
              "  </thead>\n",
              "  <tbody>\n",
              "    <tr>\n",
              "      <th>0</th>\n",
              "      <td>zzw-22g@8g7-47z-4n5</td>\n",
              "      <td>33.801432</td>\n",
              "      <td>-84.328183</td>\n",
              "      <td>2018-01-01T00:00:00-05:00</td>\n",
              "      <td>2018-01-08T00:00:00-05:00</td>\n",
              "      <td>153.0</td>\n",
              "      <td>127.0</td>\n",
              "    </tr>\n",
              "    <tr>\n",
              "      <th>1</th>\n",
              "      <td>223-222@8gd-nfm-gff</td>\n",
              "      <td>31.848279</td>\n",
              "      <td>-81.550946</td>\n",
              "      <td>2018-01-01T00:00:00-05:00</td>\n",
              "      <td>2018-01-08T00:00:00-05:00</td>\n",
              "      <td>1.0</td>\n",
              "      <td>1.0</td>\n",
              "    </tr>\n",
              "    <tr>\n",
              "      <th>2</th>\n",
              "      <td>zzy-222@665-zbs-2hq</td>\n",
              "      <td>43.635003</td>\n",
              "      <td>-79.425937</td>\n",
              "      <td>NaN</td>\n",
              "      <td>NaN</td>\n",
              "      <td>NaN</td>\n",
              "      <td>NaN</td>\n",
              "    </tr>\n",
              "    <tr>\n",
              "      <th>3</th>\n",
              "      <td>224-226@8tr-zb8-hdv</td>\n",
              "      <td>32.340824</td>\n",
              "      <td>-111.014954</td>\n",
              "      <td>NaN</td>\n",
              "      <td>NaN</td>\n",
              "      <td>NaN</td>\n",
              "      <td>NaN</td>\n",
              "    </tr>\n",
              "    <tr>\n",
              "      <th>4</th>\n",
              "      <td>22b-222@5s8-cjs-rx5</td>\n",
              "      <td>44.969912</td>\n",
              "      <td>-93.125358</td>\n",
              "      <td>2018-01-01T00:00:00-06:00</td>\n",
              "      <td>2018-01-08T00:00:00-06:00</td>\n",
              "      <td>2.0</td>\n",
              "      <td>2.0</td>\n",
              "    </tr>\n",
              "  </tbody>\n",
              "</table>\n",
              "</div>\n",
              "      <button class=\"colab-df-convert\" onclick=\"convertToInteractive('df-b7ab3279-e943-410c-a9d1-30b7a6e98ea8')\"\n",
              "              title=\"Convert this dataframe to an interactive table.\"\n",
              "              style=\"display:none;\">\n",
              "        \n",
              "  <svg xmlns=\"http://www.w3.org/2000/svg\" height=\"24px\"viewBox=\"0 0 24 24\"\n",
              "       width=\"24px\">\n",
              "    <path d=\"M0 0h24v24H0V0z\" fill=\"none\"/>\n",
              "    <path d=\"M18.56 5.44l.94 2.06.94-2.06 2.06-.94-2.06-.94-.94-2.06-.94 2.06-2.06.94zm-11 1L8.5 8.5l.94-2.06 2.06-.94-2.06-.94L8.5 2.5l-.94 2.06-2.06.94zm10 10l.94 2.06.94-2.06 2.06-.94-2.06-.94-.94-2.06-.94 2.06-2.06.94z\"/><path d=\"M17.41 7.96l-1.37-1.37c-.4-.4-.92-.59-1.43-.59-.52 0-1.04.2-1.43.59L10.3 9.45l-7.72 7.72c-.78.78-.78 2.05 0 2.83L4 21.41c.39.39.9.59 1.41.59.51 0 1.02-.2 1.41-.59l7.78-7.78 2.81-2.81c.8-.78.8-2.07 0-2.86zM5.41 20L4 18.59l7.72-7.72 1.47 1.35L5.41 20z\"/>\n",
              "  </svg>\n",
              "      </button>\n",
              "      \n",
              "  <style>\n",
              "    .colab-df-container {\n",
              "      display:flex;\n",
              "      flex-wrap:wrap;\n",
              "      gap: 12px;\n",
              "    }\n",
              "\n",
              "    .colab-df-convert {\n",
              "      background-color: #E8F0FE;\n",
              "      border: none;\n",
              "      border-radius: 50%;\n",
              "      cursor: pointer;\n",
              "      display: none;\n",
              "      fill: #1967D2;\n",
              "      height: 32px;\n",
              "      padding: 0 0 0 0;\n",
              "      width: 32px;\n",
              "    }\n",
              "\n",
              "    .colab-df-convert:hover {\n",
              "      background-color: #E2EBFA;\n",
              "      box-shadow: 0px 1px 2px rgba(60, 64, 67, 0.3), 0px 1px 3px 1px rgba(60, 64, 67, 0.15);\n",
              "      fill: #174EA6;\n",
              "    }\n",
              "\n",
              "    [theme=dark] .colab-df-convert {\n",
              "      background-color: #3B4455;\n",
              "      fill: #D2E3FC;\n",
              "    }\n",
              "\n",
              "    [theme=dark] .colab-df-convert:hover {\n",
              "      background-color: #434B5C;\n",
              "      box-shadow: 0px 1px 3px 1px rgba(0, 0, 0, 0.15);\n",
              "      filter: drop-shadow(0px 1px 2px rgba(0, 0, 0, 0.3));\n",
              "      fill: #FFFFFF;\n",
              "    }\n",
              "  </style>\n",
              "\n",
              "      <script>\n",
              "        const buttonEl =\n",
              "          document.querySelector('#df-b7ab3279-e943-410c-a9d1-30b7a6e98ea8 button.colab-df-convert');\n",
              "        buttonEl.style.display =\n",
              "          google.colab.kernel.accessAllowed ? 'block' : 'none';\n",
              "\n",
              "        async function convertToInteractive(key) {\n",
              "          const element = document.querySelector('#df-b7ab3279-e943-410c-a9d1-30b7a6e98ea8');\n",
              "          const dataTable =\n",
              "            await google.colab.kernel.invokeFunction('convertToInteractive',\n",
              "                                                     [key], {});\n",
              "          if (!dataTable) return;\n",
              "\n",
              "          const docLinkHtml = 'Like what you see? Visit the ' +\n",
              "            '<a target=\"_blank\" href=https://colab.research.google.com/notebooks/data_table.ipynb>data table notebook</a>'\n",
              "            + ' to learn more about interactive tables.';\n",
              "          element.innerHTML = '';\n",
              "          dataTable['output_type'] = 'display_data';\n",
              "          await google.colab.output.renderOutput(dataTable, element);\n",
              "          const docLink = document.createElement('div');\n",
              "          docLink.innerHTML = docLinkHtml;\n",
              "          element.appendChild(docLink);\n",
              "        }\n",
              "      </script>\n",
              "    </div>\n",
              "  </div>\n",
              "  "
            ]
          },
          "metadata": {},
          "execution_count": 15
        }
      ]
    },
    {
      "cell_type": "code",
      "source": [
        "multi_pattern_custom_demo = multi_pattern_custom_demo.dropna()"
      ],
      "metadata": {
        "id": "D-37cHR-_X5k"
      },
      "execution_count": null,
      "outputs": []
    },
    {
      "cell_type": "code",
      "source": [
        "print(\"row count after dropna:\", len(multi_pattern_custom_demo.index))"
      ],
      "metadata": {
        "id": "g7QOa5v2HQgO",
        "colab": {
          "base_uri": "https://localhost:8080/"
        },
        "outputId": "6f83f413-347a-4d17-f7a9-7aae8e3a5bcd"
      },
      "execution_count": null,
      "outputs": [
        {
          "output_type": "stream",
          "name": "stdout",
          "text": [
            "row count after dropna: 3943826\n"
          ]
        }
      ]
    },
    {
      "cell_type": "code",
      "source": [
        "multi_pattern_custom_demo.head()"
      ],
      "metadata": {
        "id": "RIvdpCAPMw2U",
        "colab": {
          "base_uri": "https://localhost:8080/",
          "height": 204
        },
        "outputId": "9dd317b4-6fcd-482b-f821-a5edf1f392b0"
      },
      "execution_count": null,
      "outputs": [
        {
          "output_type": "execute_result",
          "data": {
            "text/plain": [
              "              placekey   latitude   longitude           date_range_start  \\\n",
              "0  zzw-22g@8g7-47z-4n5  33.801432  -84.328183  2018-01-01T00:00:00-05:00   \n",
              "1  223-222@8gd-nfm-gff  31.848279  -81.550946  2018-01-01T00:00:00-05:00   \n",
              "4  22b-222@5s8-cjs-rx5  44.969912  -93.125358  2018-01-01T00:00:00-06:00   \n",
              "5  zzy-224@5xc-kcy-9s5  45.464144 -122.654787  2018-01-01T00:00:00-08:00   \n",
              "9  zzw-222@62k-jg8-t7q  41.846344  -71.429879  2018-01-01T00:00:00-05:00   \n",
              "\n",
              "              date_range_end  raw_visit_counts  raw_visitor_counts  \n",
              "0  2018-01-08T00:00:00-05:00             153.0               127.0  \n",
              "1  2018-01-08T00:00:00-05:00               1.0                 1.0  \n",
              "4  2018-01-08T00:00:00-06:00               2.0                 2.0  \n",
              "5  2018-01-08T00:00:00-08:00               2.0                 2.0  \n",
              "9  2018-01-08T00:00:00-05:00              17.0                 9.0  "
            ],
            "text/html": [
              "\n",
              "  <div id=\"df-96c9b0ae-9249-4cfd-9460-d6225d5f6907\">\n",
              "    <div class=\"colab-df-container\">\n",
              "      <div>\n",
              "<style scoped>\n",
              "    .dataframe tbody tr th:only-of-type {\n",
              "        vertical-align: middle;\n",
              "    }\n",
              "\n",
              "    .dataframe tbody tr th {\n",
              "        vertical-align: top;\n",
              "    }\n",
              "\n",
              "    .dataframe thead th {\n",
              "        text-align: right;\n",
              "    }\n",
              "</style>\n",
              "<table border=\"1\" class=\"dataframe\">\n",
              "  <thead>\n",
              "    <tr style=\"text-align: right;\">\n",
              "      <th></th>\n",
              "      <th>placekey</th>\n",
              "      <th>latitude</th>\n",
              "      <th>longitude</th>\n",
              "      <th>date_range_start</th>\n",
              "      <th>date_range_end</th>\n",
              "      <th>raw_visit_counts</th>\n",
              "      <th>raw_visitor_counts</th>\n",
              "    </tr>\n",
              "  </thead>\n",
              "  <tbody>\n",
              "    <tr>\n",
              "      <th>0</th>\n",
              "      <td>zzw-22g@8g7-47z-4n5</td>\n",
              "      <td>33.801432</td>\n",
              "      <td>-84.328183</td>\n",
              "      <td>2018-01-01T00:00:00-05:00</td>\n",
              "      <td>2018-01-08T00:00:00-05:00</td>\n",
              "      <td>153.0</td>\n",
              "      <td>127.0</td>\n",
              "    </tr>\n",
              "    <tr>\n",
              "      <th>1</th>\n",
              "      <td>223-222@8gd-nfm-gff</td>\n",
              "      <td>31.848279</td>\n",
              "      <td>-81.550946</td>\n",
              "      <td>2018-01-01T00:00:00-05:00</td>\n",
              "      <td>2018-01-08T00:00:00-05:00</td>\n",
              "      <td>1.0</td>\n",
              "      <td>1.0</td>\n",
              "    </tr>\n",
              "    <tr>\n",
              "      <th>4</th>\n",
              "      <td>22b-222@5s8-cjs-rx5</td>\n",
              "      <td>44.969912</td>\n",
              "      <td>-93.125358</td>\n",
              "      <td>2018-01-01T00:00:00-06:00</td>\n",
              "      <td>2018-01-08T00:00:00-06:00</td>\n",
              "      <td>2.0</td>\n",
              "      <td>2.0</td>\n",
              "    </tr>\n",
              "    <tr>\n",
              "      <th>5</th>\n",
              "      <td>zzy-224@5xc-kcy-9s5</td>\n",
              "      <td>45.464144</td>\n",
              "      <td>-122.654787</td>\n",
              "      <td>2018-01-01T00:00:00-08:00</td>\n",
              "      <td>2018-01-08T00:00:00-08:00</td>\n",
              "      <td>2.0</td>\n",
              "      <td>2.0</td>\n",
              "    </tr>\n",
              "    <tr>\n",
              "      <th>9</th>\n",
              "      <td>zzw-222@62k-jg8-t7q</td>\n",
              "      <td>41.846344</td>\n",
              "      <td>-71.429879</td>\n",
              "      <td>2018-01-01T00:00:00-05:00</td>\n",
              "      <td>2018-01-08T00:00:00-05:00</td>\n",
              "      <td>17.0</td>\n",
              "      <td>9.0</td>\n",
              "    </tr>\n",
              "  </tbody>\n",
              "</table>\n",
              "</div>\n",
              "      <button class=\"colab-df-convert\" onclick=\"convertToInteractive('df-96c9b0ae-9249-4cfd-9460-d6225d5f6907')\"\n",
              "              title=\"Convert this dataframe to an interactive table.\"\n",
              "              style=\"display:none;\">\n",
              "        \n",
              "  <svg xmlns=\"http://www.w3.org/2000/svg\" height=\"24px\"viewBox=\"0 0 24 24\"\n",
              "       width=\"24px\">\n",
              "    <path d=\"M0 0h24v24H0V0z\" fill=\"none\"/>\n",
              "    <path d=\"M18.56 5.44l.94 2.06.94-2.06 2.06-.94-2.06-.94-.94-2.06-.94 2.06-2.06.94zm-11 1L8.5 8.5l.94-2.06 2.06-.94-2.06-.94L8.5 2.5l-.94 2.06-2.06.94zm10 10l.94 2.06.94-2.06 2.06-.94-2.06-.94-.94-2.06-.94 2.06-2.06.94z\"/><path d=\"M17.41 7.96l-1.37-1.37c-.4-.4-.92-.59-1.43-.59-.52 0-1.04.2-1.43.59L10.3 9.45l-7.72 7.72c-.78.78-.78 2.05 0 2.83L4 21.41c.39.39.9.59 1.41.59.51 0 1.02-.2 1.41-.59l7.78-7.78 2.81-2.81c.8-.78.8-2.07 0-2.86zM5.41 20L4 18.59l7.72-7.72 1.47 1.35L5.41 20z\"/>\n",
              "  </svg>\n",
              "      </button>\n",
              "      \n",
              "  <style>\n",
              "    .colab-df-container {\n",
              "      display:flex;\n",
              "      flex-wrap:wrap;\n",
              "      gap: 12px;\n",
              "    }\n",
              "\n",
              "    .colab-df-convert {\n",
              "      background-color: #E8F0FE;\n",
              "      border: none;\n",
              "      border-radius: 50%;\n",
              "      cursor: pointer;\n",
              "      display: none;\n",
              "      fill: #1967D2;\n",
              "      height: 32px;\n",
              "      padding: 0 0 0 0;\n",
              "      width: 32px;\n",
              "    }\n",
              "\n",
              "    .colab-df-convert:hover {\n",
              "      background-color: #E2EBFA;\n",
              "      box-shadow: 0px 1px 2px rgba(60, 64, 67, 0.3), 0px 1px 3px 1px rgba(60, 64, 67, 0.15);\n",
              "      fill: #174EA6;\n",
              "    }\n",
              "\n",
              "    [theme=dark] .colab-df-convert {\n",
              "      background-color: #3B4455;\n",
              "      fill: #D2E3FC;\n",
              "    }\n",
              "\n",
              "    [theme=dark] .colab-df-convert:hover {\n",
              "      background-color: #434B5C;\n",
              "      box-shadow: 0px 1px 3px 1px rgba(0, 0, 0, 0.15);\n",
              "      filter: drop-shadow(0px 1px 2px rgba(0, 0, 0, 0.3));\n",
              "      fill: #FFFFFF;\n",
              "    }\n",
              "  </style>\n",
              "\n",
              "      <script>\n",
              "        const buttonEl =\n",
              "          document.querySelector('#df-96c9b0ae-9249-4cfd-9460-d6225d5f6907 button.colab-df-convert');\n",
              "        buttonEl.style.display =\n",
              "          google.colab.kernel.accessAllowed ? 'block' : 'none';\n",
              "\n",
              "        async function convertToInteractive(key) {\n",
              "          const element = document.querySelector('#df-96c9b0ae-9249-4cfd-9460-d6225d5f6907');\n",
              "          const dataTable =\n",
              "            await google.colab.kernel.invokeFunction('convertToInteractive',\n",
              "                                                     [key], {});\n",
              "          if (!dataTable) return;\n",
              "\n",
              "          const docLinkHtml = 'Like what you see? Visit the ' +\n",
              "            '<a target=\"_blank\" href=https://colab.research.google.com/notebooks/data_table.ipynb>data table notebook</a>'\n",
              "            + ' to learn more about interactive tables.';\n",
              "          element.innerHTML = '';\n",
              "          dataTable['output_type'] = 'display_data';\n",
              "          await google.colab.output.renderOutput(dataTable, element);\n",
              "          const docLink = document.createElement('div');\n",
              "          docLink.innerHTML = docLinkHtml;\n",
              "          element.appendChild(docLink);\n",
              "        }\n",
              "      </script>\n",
              "    </div>\n",
              "  </div>\n",
              "  "
            ]
          },
          "metadata": {},
          "execution_count": 18
        }
      ]
    },
    {
      "cell_type": "markdown",
      "source": [
        "##Creating Distance Dummies\n"
      ],
      "metadata": {
        "id": "dZSgi1qNATJ_"
      }
    },
    {
      "cell_type": "markdown",
      "source": [
        "Old Code That Returns Dataframe Of Close Lat/Long Locations"
      ],
      "metadata": {
        "id": "Dkr7y-KQWRRI"
      }
    },
    {
      "cell_type": "code",
      "source": [
        "import geopy.distance\n",
        "def get_closest(shooting_lat, shooting_long, multi_pattern_custom_demo, min_dist):\n",
        "  #GETTING VALUES WITHIN 54 MILES\n",
        "  multi_pattern_custom_demo = multi_pattern_custom_demo[multi_pattern_custom_demo['latitude'] <= shooting_lat+1]\n",
        "  multi_pattern_custom_demo = multi_pattern_custom_demo[multi_pattern_custom_demo['latitude'] >= shooting_lat-1]\n",
        "  multi_pattern_custom_demo = multi_pattern_custom_demo[multi_pattern_custom_demo['longitude'] <= shooting_long+1]\n",
        "  multi_pattern_custom_demo = multi_pattern_custom_demo[multi_pattern_custom_demo['longitude'] >= shooting_long-1]\n",
        "  #GETTING VALUES WITHIN (MIN_DIST) MILES\n",
        "  distances = []\n",
        "  shooting_latlong = (shooting_lat, shooting_long)\n",
        "  for iteration in range(len(multi_pattern_custom_demo.index)):\n",
        "    location_latlong = (multi_pattern_custom_demo.iloc[iteration]['latitude'],multi_pattern_custom_demo.iloc[iteration]['longitude'])\n",
        "    if abs(float(location_latlong[1])) > 90:\n",
        "      distances.append(\"nan\")\n",
        "      continue\n",
        "    distances.append(geopy.distance.distance(shooting_latlong, location_latlong).miles)\n",
        "  multi_pattern_custom_demo['distance'] = distances\n",
        "  close_locations = multi_pattern_custom_demo[multi_pattern_custom_demo['distance'] <= min_dist]\n",
        "  return close_locations"
      ],
      "metadata": {
        "id": "qIp9HV9xR5FN"
      },
      "execution_count": null,
      "outputs": []
    },
    {
      "cell_type": "code",
      "source": [
        "#REPLACE WITH SHOOTING LOCATION\n",
        "shooting_lat = 37.244933\n",
        "shooting_long = -80.175964\n",
        "min_dist = 5 #IN MILES, REPLACE WITH MILES TO DESTINATION\n",
        "#closest = get_closest(shooting_lat, shooting_long, multi_pattern_custom_demo, min_dist)\n",
        "#print(closest.head())\n",
        "#print(len(closest.index))"
      ],
      "metadata": {
        "id": "RkAOcWdPkURR"
      },
      "execution_count": null,
      "outputs": []
    },
    {
      "cell_type": "code",
      "source": [
        "#closest"
      ],
      "metadata": {
        "colab": {
          "base_uri": "https://localhost:8080/",
          "height": 633
        },
        "id": "2UFeRoIr1TNN",
        "outputId": "e7a58c33-64ba-47a1-8a67-773b68233359"
      },
      "execution_count": null,
      "outputs": [
        {
          "output_type": "execute_result",
          "data": {
            "text/plain": [
              "                   placekey   latitude  longitude           date_range_start  \\\n",
              "89622   222-224@63f-whb-skf  37.233319 -80.240305  2018-01-01T00:00:00-05:00   \n",
              "456210  zzy-222@63f-wh9-z4v  37.228424 -80.241956  2018-01-01T00:00:00-05:00   \n",
              "41657   zzw-222@63f-w99-qzz  37.275109 -80.124295  2018-01-01T00:00:00-05:00   \n",
              "157817  zzy-223@63f-whq-7wk  37.199208 -80.232886  2018-01-01T00:00:00-05:00   \n",
              "166982  224-222@63f-w9m-kmk  37.288998 -80.137930  2018-01-01T00:00:00-05:00   \n",
              "...                     ...        ...        ...                        ...   \n",
              "85901   223-222@63f-w7s-fxq  37.246410 -80.175603  2018-01-01T00:00:00-05:00   \n",
              "163134  222-222@63f-w99-zmk  37.274600 -80.130381  2018-01-01T00:00:00-05:00   \n",
              "168291  222-222@63f-w9m-t5f  37.280514 -80.139092  2018-01-01T00:00:00-05:00   \n",
              "431564  222-222@63f-w9g-zpv  37.279946 -80.116636  2018-01-01T00:00:00-05:00   \n",
              "471668  222-222@63f-wh9-t7q  37.220777 -80.228290  2018-01-01T00:00:00-05:00   \n",
              "\n",
              "                   date_range_end  raw_visit_counts  raw_visitor_counts  \\\n",
              "89622   2018-01-08T00:00:00-05:00             124.0               106.0   \n",
              "456210  2018-01-08T00:00:00-05:00               2.0                 2.0   \n",
              "41657   2018-01-08T00:00:00-05:00              13.0                 4.0   \n",
              "157817  2018-01-08T00:00:00-05:00              19.0                12.0   \n",
              "166982  2018-01-08T00:00:00-05:00               1.0                 1.0   \n",
              "...                           ...               ...                 ...   \n",
              "85901   2018-01-08T00:00:00-05:00              10.0                10.0   \n",
              "163134  2018-01-08T00:00:00-05:00               8.0                 4.0   \n",
              "168291  2018-01-08T00:00:00-05:00             165.0                92.0   \n",
              "431564  2018-01-08T00:00:00-05:00              44.0                30.0   \n",
              "471668  2018-01-08T00:00:00-05:00               4.0                 3.0   \n",
              "\n",
              "        distance_dummy  distance  \n",
              "89622              0.0  3.636767  \n",
              "456210             0.0  3.812576  \n",
              "41657              0.0  3.527273  \n",
              "157817             0.0  4.449391  \n",
              "166982             0.0  3.691680  \n",
              "...                ...       ...  \n",
              "85901              0.0  0.103782  \n",
              "163134             0.0  3.240150  \n",
              "168291             0.0  3.186074  \n",
              "431564             0.0  4.064902  \n",
              "471668             0.0  3.331624  \n",
              "\n",
              "[85 rows x 9 columns]"
            ],
            "text/html": [
              "\n",
              "  <div id=\"df-98adef2b-d376-4656-b483-7cea37b3ca22\">\n",
              "    <div class=\"colab-df-container\">\n",
              "      <div>\n",
              "<style scoped>\n",
              "    .dataframe tbody tr th:only-of-type {\n",
              "        vertical-align: middle;\n",
              "    }\n",
              "\n",
              "    .dataframe tbody tr th {\n",
              "        vertical-align: top;\n",
              "    }\n",
              "\n",
              "    .dataframe thead th {\n",
              "        text-align: right;\n",
              "    }\n",
              "</style>\n",
              "<table border=\"1\" class=\"dataframe\">\n",
              "  <thead>\n",
              "    <tr style=\"text-align: right;\">\n",
              "      <th></th>\n",
              "      <th>placekey</th>\n",
              "      <th>latitude</th>\n",
              "      <th>longitude</th>\n",
              "      <th>date_range_start</th>\n",
              "      <th>date_range_end</th>\n",
              "      <th>raw_visit_counts</th>\n",
              "      <th>raw_visitor_counts</th>\n",
              "      <th>distance_dummy</th>\n",
              "      <th>distance</th>\n",
              "    </tr>\n",
              "  </thead>\n",
              "  <tbody>\n",
              "    <tr>\n",
              "      <th>89622</th>\n",
              "      <td>222-224@63f-whb-skf</td>\n",
              "      <td>37.233319</td>\n",
              "      <td>-80.240305</td>\n",
              "      <td>2018-01-01T00:00:00-05:00</td>\n",
              "      <td>2018-01-08T00:00:00-05:00</td>\n",
              "      <td>124.0</td>\n",
              "      <td>106.0</td>\n",
              "      <td>0.0</td>\n",
              "      <td>3.636767</td>\n",
              "    </tr>\n",
              "    <tr>\n",
              "      <th>456210</th>\n",
              "      <td>zzy-222@63f-wh9-z4v</td>\n",
              "      <td>37.228424</td>\n",
              "      <td>-80.241956</td>\n",
              "      <td>2018-01-01T00:00:00-05:00</td>\n",
              "      <td>2018-01-08T00:00:00-05:00</td>\n",
              "      <td>2.0</td>\n",
              "      <td>2.0</td>\n",
              "      <td>0.0</td>\n",
              "      <td>3.812576</td>\n",
              "    </tr>\n",
              "    <tr>\n",
              "      <th>41657</th>\n",
              "      <td>zzw-222@63f-w99-qzz</td>\n",
              "      <td>37.275109</td>\n",
              "      <td>-80.124295</td>\n",
              "      <td>2018-01-01T00:00:00-05:00</td>\n",
              "      <td>2018-01-08T00:00:00-05:00</td>\n",
              "      <td>13.0</td>\n",
              "      <td>4.0</td>\n",
              "      <td>0.0</td>\n",
              "      <td>3.527273</td>\n",
              "    </tr>\n",
              "    <tr>\n",
              "      <th>157817</th>\n",
              "      <td>zzy-223@63f-whq-7wk</td>\n",
              "      <td>37.199208</td>\n",
              "      <td>-80.232886</td>\n",
              "      <td>2018-01-01T00:00:00-05:00</td>\n",
              "      <td>2018-01-08T00:00:00-05:00</td>\n",
              "      <td>19.0</td>\n",
              "      <td>12.0</td>\n",
              "      <td>0.0</td>\n",
              "      <td>4.449391</td>\n",
              "    </tr>\n",
              "    <tr>\n",
              "      <th>166982</th>\n",
              "      <td>224-222@63f-w9m-kmk</td>\n",
              "      <td>37.288998</td>\n",
              "      <td>-80.137930</td>\n",
              "      <td>2018-01-01T00:00:00-05:00</td>\n",
              "      <td>2018-01-08T00:00:00-05:00</td>\n",
              "      <td>1.0</td>\n",
              "      <td>1.0</td>\n",
              "      <td>0.0</td>\n",
              "      <td>3.691680</td>\n",
              "    </tr>\n",
              "    <tr>\n",
              "      <th>...</th>\n",
              "      <td>...</td>\n",
              "      <td>...</td>\n",
              "      <td>...</td>\n",
              "      <td>...</td>\n",
              "      <td>...</td>\n",
              "      <td>...</td>\n",
              "      <td>...</td>\n",
              "      <td>...</td>\n",
              "      <td>...</td>\n",
              "    </tr>\n",
              "    <tr>\n",
              "      <th>85901</th>\n",
              "      <td>223-222@63f-w7s-fxq</td>\n",
              "      <td>37.246410</td>\n",
              "      <td>-80.175603</td>\n",
              "      <td>2018-01-01T00:00:00-05:00</td>\n",
              "      <td>2018-01-08T00:00:00-05:00</td>\n",
              "      <td>10.0</td>\n",
              "      <td>10.0</td>\n",
              "      <td>0.0</td>\n",
              "      <td>0.103782</td>\n",
              "    </tr>\n",
              "    <tr>\n",
              "      <th>163134</th>\n",
              "      <td>222-222@63f-w99-zmk</td>\n",
              "      <td>37.274600</td>\n",
              "      <td>-80.130381</td>\n",
              "      <td>2018-01-01T00:00:00-05:00</td>\n",
              "      <td>2018-01-08T00:00:00-05:00</td>\n",
              "      <td>8.0</td>\n",
              "      <td>4.0</td>\n",
              "      <td>0.0</td>\n",
              "      <td>3.240150</td>\n",
              "    </tr>\n",
              "    <tr>\n",
              "      <th>168291</th>\n",
              "      <td>222-222@63f-w9m-t5f</td>\n",
              "      <td>37.280514</td>\n",
              "      <td>-80.139092</td>\n",
              "      <td>2018-01-01T00:00:00-05:00</td>\n",
              "      <td>2018-01-08T00:00:00-05:00</td>\n",
              "      <td>165.0</td>\n",
              "      <td>92.0</td>\n",
              "      <td>0.0</td>\n",
              "      <td>3.186074</td>\n",
              "    </tr>\n",
              "    <tr>\n",
              "      <th>431564</th>\n",
              "      <td>222-222@63f-w9g-zpv</td>\n",
              "      <td>37.279946</td>\n",
              "      <td>-80.116636</td>\n",
              "      <td>2018-01-01T00:00:00-05:00</td>\n",
              "      <td>2018-01-08T00:00:00-05:00</td>\n",
              "      <td>44.0</td>\n",
              "      <td>30.0</td>\n",
              "      <td>0.0</td>\n",
              "      <td>4.064902</td>\n",
              "    </tr>\n",
              "    <tr>\n",
              "      <th>471668</th>\n",
              "      <td>222-222@63f-wh9-t7q</td>\n",
              "      <td>37.220777</td>\n",
              "      <td>-80.228290</td>\n",
              "      <td>2018-01-01T00:00:00-05:00</td>\n",
              "      <td>2018-01-08T00:00:00-05:00</td>\n",
              "      <td>4.0</td>\n",
              "      <td>3.0</td>\n",
              "      <td>0.0</td>\n",
              "      <td>3.331624</td>\n",
              "    </tr>\n",
              "  </tbody>\n",
              "</table>\n",
              "<p>85 rows × 9 columns</p>\n",
              "</div>\n",
              "      <button class=\"colab-df-convert\" onclick=\"convertToInteractive('df-98adef2b-d376-4656-b483-7cea37b3ca22')\"\n",
              "              title=\"Convert this dataframe to an interactive table.\"\n",
              "              style=\"display:none;\">\n",
              "        \n",
              "  <svg xmlns=\"http://www.w3.org/2000/svg\" height=\"24px\"viewBox=\"0 0 24 24\"\n",
              "       width=\"24px\">\n",
              "    <path d=\"M0 0h24v24H0V0z\" fill=\"none\"/>\n",
              "    <path d=\"M18.56 5.44l.94 2.06.94-2.06 2.06-.94-2.06-.94-.94-2.06-.94 2.06-2.06.94zm-11 1L8.5 8.5l.94-2.06 2.06-.94-2.06-.94L8.5 2.5l-.94 2.06-2.06.94zm10 10l.94 2.06.94-2.06 2.06-.94-2.06-.94-.94-2.06-.94 2.06-2.06.94z\"/><path d=\"M17.41 7.96l-1.37-1.37c-.4-.4-.92-.59-1.43-.59-.52 0-1.04.2-1.43.59L10.3 9.45l-7.72 7.72c-.78.78-.78 2.05 0 2.83L4 21.41c.39.39.9.59 1.41.59.51 0 1.02-.2 1.41-.59l7.78-7.78 2.81-2.81c.8-.78.8-2.07 0-2.86zM5.41 20L4 18.59l7.72-7.72 1.47 1.35L5.41 20z\"/>\n",
              "  </svg>\n",
              "      </button>\n",
              "      \n",
              "  <style>\n",
              "    .colab-df-container {\n",
              "      display:flex;\n",
              "      flex-wrap:wrap;\n",
              "      gap: 12px;\n",
              "    }\n",
              "\n",
              "    .colab-df-convert {\n",
              "      background-color: #E8F0FE;\n",
              "      border: none;\n",
              "      border-radius: 50%;\n",
              "      cursor: pointer;\n",
              "      display: none;\n",
              "      fill: #1967D2;\n",
              "      height: 32px;\n",
              "      padding: 0 0 0 0;\n",
              "      width: 32px;\n",
              "    }\n",
              "\n",
              "    .colab-df-convert:hover {\n",
              "      background-color: #E2EBFA;\n",
              "      box-shadow: 0px 1px 2px rgba(60, 64, 67, 0.3), 0px 1px 3px 1px rgba(60, 64, 67, 0.15);\n",
              "      fill: #174EA6;\n",
              "    }\n",
              "\n",
              "    [theme=dark] .colab-df-convert {\n",
              "      background-color: #3B4455;\n",
              "      fill: #D2E3FC;\n",
              "    }\n",
              "\n",
              "    [theme=dark] .colab-df-convert:hover {\n",
              "      background-color: #434B5C;\n",
              "      box-shadow: 0px 1px 3px 1px rgba(0, 0, 0, 0.15);\n",
              "      filter: drop-shadow(0px 1px 2px rgba(0, 0, 0, 0.3));\n",
              "      fill: #FFFFFF;\n",
              "    }\n",
              "  </style>\n",
              "\n",
              "      <script>\n",
              "        const buttonEl =\n",
              "          document.querySelector('#df-98adef2b-d376-4656-b483-7cea37b3ca22 button.colab-df-convert');\n",
              "        buttonEl.style.display =\n",
              "          google.colab.kernel.accessAllowed ? 'block' : 'none';\n",
              "\n",
              "        async function convertToInteractive(key) {\n",
              "          const element = document.querySelector('#df-98adef2b-d376-4656-b483-7cea37b3ca22');\n",
              "          const dataTable =\n",
              "            await google.colab.kernel.invokeFunction('convertToInteractive',\n",
              "                                                     [key], {});\n",
              "          if (!dataTable) return;\n",
              "\n",
              "          const docLinkHtml = 'Like what you see? Visit the ' +\n",
              "            '<a target=\"_blank\" href=https://colab.research.google.com/notebooks/data_table.ipynb>data table notebook</a>'\n",
              "            + ' to learn more about interactive tables.';\n",
              "          element.innerHTML = '';\n",
              "          dataTable['output_type'] = 'display_data';\n",
              "          await google.colab.output.renderOutput(dataTable, element);\n",
              "          const docLink = document.createElement('div');\n",
              "          docLink.innerHTML = docLinkHtml;\n",
              "          element.appendChild(docLink);\n",
              "        }\n",
              "      </script>\n",
              "    </div>\n",
              "  </div>\n",
              "  "
            ]
          },
          "metadata": {},
          "execution_count": 54
        }
      ]
    },
    {
      "cell_type": "markdown",
      "source": [
        "Get Distance Dummies"
      ],
      "metadata": {
        "id": "bo604elEiEFT"
      }
    },
    {
      "cell_type": "code",
      "source": [
        "import geopy.distance\n",
        "def close_dummies(shooting_lat, shooting_long, multi_pattern_custom_demo, min_dist):\n",
        "\n",
        "  multi_pattern_custom_demo['distance_dummy'] = 0\n",
        "\n",
        "  shooting_latlong = (shooting_lat, shooting_long)\n",
        "\n",
        "  for iteration in range(len(multi_pattern_custom_demo.index)):\n",
        "\n",
        "    if multi_pattern_custom_demo.loc[iteration]['latitude'] > shooting_lat+.5 or multi_pattern_custom_demo.loc[iteration]['latitude'] < shooting_lat-.5 or multi_pattern_custom_demo.loc[iteration]['longitude'] > shooting_long+.5 or multi_pattern_custom_demo.loc[iteration]['longitude'] < shooting_long-.5:\n",
        "      continue\n",
        "\n",
        "    location_latlong = (multi_pattern_custom_demo.loc[iteration]['latitude'],multi_pattern_custom_demo.loc[iteration]['longitude'])\n",
        "\n",
        "    if geopy.distance.distance(shooting_latlong, location_latlong).miles <= min_dist:\n",
        "      multi_pattern_custom_demo.at[iteration, 'distance_dummy']=1\n",
        "\n",
        "  return multi_pattern_custom_demo"
      ],
      "metadata": {
        "id": "CGDVmiVpiH9-"
      },
      "execution_count": null,
      "outputs": []
    },
    {
      "cell_type": "code",
      "source": [
        "shooting_lat = 37.244933\n",
        "shooting_long = -80.175964\n",
        "min_dist = 5 #IN MILES, REPLACE WITH MILES TO DESTINATION\n",
        "multi_pattern_custom_demo = close_dummies(shooting_lat, shooting_long, multi_pattern_custom_demo, min_dist)\n",
        "print(multi_pattern_custom_demo.head())"
      ],
      "metadata": {
        "colab": {
          "base_uri": "https://localhost:8080/",
          "height": 358
        },
        "id": "swKXT19-kFkJ",
        "outputId": "7caef90c-247c-4688-f229-a6e45dcf3d78"
      },
      "execution_count": null,
      "outputs": [
        {
          "output_type": "error",
          "ename": "ValueError",
          "evalue": "ignored",
          "traceback": [
            "\u001b[0;31m---------------------------------------------------------------------------\u001b[0m",
            "\u001b[0;31mValueError\u001b[0m                                Traceback (most recent call last)",
            "\u001b[0;32m<ipython-input-57-ae98dd9afd50>\u001b[0m in \u001b[0;36m<module>\u001b[0;34m\u001b[0m\n\u001b[1;32m      2\u001b[0m \u001b[0mshooting_long\u001b[0m \u001b[0;34m=\u001b[0m \u001b[0;34m-\u001b[0m\u001b[0;36m80.175964\u001b[0m\u001b[0;34m\u001b[0m\u001b[0;34m\u001b[0m\u001b[0m\n\u001b[1;32m      3\u001b[0m \u001b[0mmin_dist\u001b[0m \u001b[0;34m=\u001b[0m \u001b[0;36m5\u001b[0m \u001b[0;31m#IN MILES, REPLACE WITH MILES TO DESTINATION\u001b[0m\u001b[0;34m\u001b[0m\u001b[0;34m\u001b[0m\u001b[0m\n\u001b[0;32m----> 4\u001b[0;31m \u001b[0mmulti_pattern_custom_demo\u001b[0m \u001b[0;34m=\u001b[0m \u001b[0mclose_dummies\u001b[0m\u001b[0;34m(\u001b[0m\u001b[0mshooting_lat\u001b[0m\u001b[0;34m,\u001b[0m \u001b[0mshooting_long\u001b[0m\u001b[0;34m,\u001b[0m \u001b[0mmulti_pattern_custom_demo\u001b[0m\u001b[0;34m,\u001b[0m \u001b[0mmin_dist\u001b[0m\u001b[0;34m)\u001b[0m\u001b[0;34m\u001b[0m\u001b[0;34m\u001b[0m\u001b[0m\n\u001b[0m\u001b[1;32m      5\u001b[0m \u001b[0mprint\u001b[0m\u001b[0;34m(\u001b[0m\u001b[0mmulti_pattern_custom_demo\u001b[0m\u001b[0;34m.\u001b[0m\u001b[0mhead\u001b[0m\u001b[0;34m(\u001b[0m\u001b[0;34m)\u001b[0m\u001b[0;34m)\u001b[0m\u001b[0;34m\u001b[0m\u001b[0;34m\u001b[0m\u001b[0m\n",
            "\u001b[0;32m<ipython-input-56-710496b110fa>\u001b[0m in \u001b[0;36mclose_dummies\u001b[0;34m(shooting_lat, shooting_long, multi_pattern_custom_demo, min_dist)\u001b[0m\n\u001b[1;32m      8\u001b[0m   \u001b[0;32mfor\u001b[0m \u001b[0miteration\u001b[0m \u001b[0;32min\u001b[0m \u001b[0mrange\u001b[0m\u001b[0;34m(\u001b[0m\u001b[0mlen\u001b[0m\u001b[0;34m(\u001b[0m\u001b[0mmulti_pattern_custom_demo\u001b[0m\u001b[0;34m.\u001b[0m\u001b[0mindex\u001b[0m\u001b[0;34m)\u001b[0m\u001b[0;34m)\u001b[0m\u001b[0;34m:\u001b[0m\u001b[0;34m\u001b[0m\u001b[0;34m\u001b[0m\u001b[0m\n\u001b[1;32m      9\u001b[0m \u001b[0;34m\u001b[0m\u001b[0m\n\u001b[0;32m---> 10\u001b[0;31m     \u001b[0;32mif\u001b[0m \u001b[0mmulti_pattern_custom_demo\u001b[0m\u001b[0;34m.\u001b[0m\u001b[0mloc\u001b[0m\u001b[0;34m[\u001b[0m\u001b[0miteration\u001b[0m\u001b[0;34m]\u001b[0m\u001b[0;34m[\u001b[0m\u001b[0;34m'latitude'\u001b[0m\u001b[0;34m]\u001b[0m \u001b[0;34m>\u001b[0m \u001b[0mshooting_lat\u001b[0m\u001b[0;34m+\u001b[0m\u001b[0;36m.5\u001b[0m \u001b[0;32mor\u001b[0m \u001b[0mmulti_pattern_custom_demo\u001b[0m\u001b[0;34m.\u001b[0m\u001b[0mloc\u001b[0m\u001b[0;34m[\u001b[0m\u001b[0miteration\u001b[0m\u001b[0;34m]\u001b[0m\u001b[0;34m[\u001b[0m\u001b[0;34m'latitude'\u001b[0m\u001b[0;34m]\u001b[0m \u001b[0;34m<\u001b[0m \u001b[0mshooting_lat\u001b[0m\u001b[0;34m-\u001b[0m\u001b[0;36m.5\u001b[0m \u001b[0;32mor\u001b[0m \u001b[0mmulti_pattern_custom_demo\u001b[0m\u001b[0;34m.\u001b[0m\u001b[0mloc\u001b[0m\u001b[0;34m[\u001b[0m\u001b[0miteration\u001b[0m\u001b[0;34m]\u001b[0m\u001b[0;34m[\u001b[0m\u001b[0;34m'longitude'\u001b[0m\u001b[0;34m]\u001b[0m \u001b[0;34m>\u001b[0m \u001b[0mshooting_long\u001b[0m\u001b[0;34m+\u001b[0m\u001b[0;36m.5\u001b[0m \u001b[0;32mor\u001b[0m \u001b[0mmulti_pattern_custom_demo\u001b[0m\u001b[0;34m.\u001b[0m\u001b[0mloc\u001b[0m\u001b[0;34m[\u001b[0m\u001b[0miteration\u001b[0m\u001b[0;34m]\u001b[0m\u001b[0;34m[\u001b[0m\u001b[0;34m'longitude'\u001b[0m\u001b[0;34m]\u001b[0m \u001b[0;34m<\u001b[0m \u001b[0mshooting_long\u001b[0m\u001b[0;34m-\u001b[0m\u001b[0;36m.5\u001b[0m\u001b[0;34m:\u001b[0m\u001b[0;34m\u001b[0m\u001b[0;34m\u001b[0m\u001b[0m\n\u001b[0m\u001b[1;32m     11\u001b[0m       \u001b[0;32mcontinue\u001b[0m\u001b[0;34m\u001b[0m\u001b[0;34m\u001b[0m\u001b[0m\n\u001b[1;32m     12\u001b[0m \u001b[0;34m\u001b[0m\u001b[0m\n",
            "\u001b[0;32m/usr/local/lib/python3.8/dist-packages/pandas/core/generic.py\u001b[0m in \u001b[0;36m__nonzero__\u001b[0;34m(self)\u001b[0m\n\u001b[1;32m   1535\u001b[0m     \u001b[0;34m@\u001b[0m\u001b[0mfinal\u001b[0m\u001b[0;34m\u001b[0m\u001b[0;34m\u001b[0m\u001b[0m\n\u001b[1;32m   1536\u001b[0m     \u001b[0;32mdef\u001b[0m \u001b[0m__nonzero__\u001b[0m\u001b[0;34m(\u001b[0m\u001b[0mself\u001b[0m\u001b[0;34m)\u001b[0m\u001b[0;34m:\u001b[0m\u001b[0;34m\u001b[0m\u001b[0;34m\u001b[0m\u001b[0m\n\u001b[0;32m-> 1537\u001b[0;31m         raise ValueError(\n\u001b[0m\u001b[1;32m   1538\u001b[0m             \u001b[0;34mf\"The truth value of a {type(self).__name__} is ambiguous. \"\u001b[0m\u001b[0;34m\u001b[0m\u001b[0;34m\u001b[0m\u001b[0m\n\u001b[1;32m   1539\u001b[0m             \u001b[0;34m\"Use a.empty, a.bool(), a.item(), a.any() or a.all().\"\u001b[0m\u001b[0;34m\u001b[0m\u001b[0;34m\u001b[0m\u001b[0m\n",
            "\u001b[0;31mValueError\u001b[0m: The truth value of a Series is ambiguous. Use a.empty, a.bool(), a.item(), a.any() or a.all()."
          ]
        }
      ]
    },
    {
      "cell_type": "markdown",
      "source": [
        "Counting How Many Rows Are Near Shooting"
      ],
      "metadata": {
        "id": "KnRk3yyLzv7d"
      }
    },
    {
      "cell_type": "code",
      "source": [
        "count = 0\n",
        "for iteration in range(len(multi_pattern_custom_demo.index)):\n",
        "  if multi_pattern_custom_demo.iloc[iteration]['distance_dummy'] == 1:\n",
        "    print(multi_pattern_custom_demo.iloc[iteration]['longitude'],multi_pattern_custom_demo.iloc[iteration]['latitude'])"
      ],
      "metadata": {
        "colab": {
          "base_uri": "https://localhost:8080/"
        },
        "id": "ZEHwTbubtzZT",
        "outputId": "567fc5b3-5b1c-4620-acaf-4ab87311634f"
      },
      "execution_count": null,
      "outputs": [
        {
          "output_type": "stream",
          "name": "stdout",
          "text": [
            "-72.653992 40.920536\n",
            "-91.398951 32.860147\n",
            "-94.624978 39.14986\n",
            "-76.551928 39.184022\n",
            "-93.025925 44.989066\n",
            "-87.567107 37.874961\n",
            "-88.547284 39.122329\n",
            "-76.415026 40.312576\n",
            "-83.70417 41.674083\n",
            "-84.360397 30.46544\n",
            "-97.791502 32.776121\n",
            "-116.285294 43.555966\n",
            "-83.112679 42.537218\n",
            "-88.03629 42.49695\n",
            "-117.965631 33.995776\n",
            "-119.057285 35.295094\n",
            "-96.484136 32.94936\n",
            "-95.386447 29.556413\n",
            "-78.754764 42.926674\n",
            "-88.079938 41.686393\n",
            "-114.10385 47.526833\n",
            "-83.975001 35.797312\n",
            "-88.813048 35.558349\n",
            "-97.03666 45.304907\n",
            "-76.298314 40.040135\n",
            "-97.149455 32.720549\n",
            "-122.685097 38.347836\n",
            "-98.094617 27.746756\n",
            "-95.635379 29.679913\n",
            "-97.331862 32.710992\n",
            "-121.185929 45.600071\n",
            "-116.86792 33.042722\n",
            "-93.752014 32.493246\n",
            "-98.067451 26.182715\n",
            "-118.193369 33.772151\n",
            "-75.450499 38.930945\n",
            "-96.14184 41.201114\n",
            "-75.161594 40.02833\n",
            "-78.55322 33.988072\n",
            "-117.882355 33.926325\n",
            "-77.51384 38.294781\n",
            "-106.733565 32.304596\n",
            "-86.598747 36.209437\n",
            "-74.605193 40.983492\n",
            "-93.016787 45.079009\n",
            "-75.606444 41.473076\n",
            "-87.695286 42.055846\n",
            "-122.859411 42.313271\n",
            "-95.452218 37.681485\n",
            "-97.321292 32.860369\n",
            "-87.568986 38.252814\n",
            "-118.575136 34.207893\n",
            "-87.853628 42.878375\n",
            "-95.400861 29.952014\n",
            "-117.291658 34.479239\n",
            "-97.239411 37.745813\n",
            "-80.151913 25.964456\n",
            "-83.36909 35.19266\n",
            "-79.407329 36.614269\n",
            "-78.913129 36.735059\n",
            "-111.821879 41.755674\n",
            "-87.009034 34.824732\n",
            "-93.15321 31.754177\n",
            "-73.821972 42.696456\n",
            "-96.780964 41.461958\n",
            "-75.625216 35.841539\n",
            "-79.718247 39.909762\n",
            "-88.343715 41.751879\n",
            "-116.780959 47.67373\n",
            "-80.452238 34.876529\n",
            "-85.269545 35.070207\n",
            "-81.860946 26.643916\n",
            "-83.686739 42.086581\n",
            "-84.98423 29.724246\n",
            "-88.003319 41.949401\n",
            "-149.855896 61.110775\n",
            "-123.351063 43.24256\n",
            "-102.152816 32.029046\n",
            "-89.819907 35.202799\n",
            "-122.439645 47.256184\n",
            "-120.4018 34.865633\n",
            "-121.047955 37.684971\n",
            "nan nan\n",
            "nan nan\n",
            "nan nan\n",
            "nan nan\n",
            "nan nan\n",
            "nan nan\n",
            "nan nan\n",
            "nan nan\n",
            "nan nan\n",
            "nan nan\n",
            "nan nan\n",
            "nan nan\n",
            "nan nan\n",
            "nan nan\n",
            "nan nan\n",
            "nan nan\n",
            "nan nan\n",
            "nan nan\n",
            "nan nan\n",
            "nan nan\n",
            "nan nan\n",
            "nan nan\n",
            "nan nan\n",
            "nan nan\n",
            "nan nan\n",
            "nan nan\n",
            "nan nan\n",
            "nan nan\n",
            "nan nan\n",
            "nan nan\n",
            "nan nan\n",
            "nan nan\n",
            "nan nan\n",
            "nan nan\n",
            "nan nan\n",
            "nan nan\n",
            "nan nan\n",
            "nan nan\n",
            "nan nan\n",
            "nan nan\n",
            "nan nan\n",
            "nan nan\n",
            "nan nan\n",
            "nan nan\n",
            "nan nan\n",
            "nan nan\n",
            "nan nan\n",
            "nan nan\n",
            "nan nan\n",
            "nan nan\n",
            "nan nan\n",
            "nan nan\n",
            "nan nan\n",
            "nan nan\n",
            "nan nan\n",
            "nan nan\n",
            "nan nan\n",
            "nan nan\n",
            "nan nan\n",
            "nan nan\n",
            "nan nan\n",
            "nan nan\n",
            "nan nan\n",
            "nan nan\n",
            "nan nan\n",
            "nan nan\n",
            "nan nan\n",
            "nan nan\n",
            "nan nan\n",
            "nan nan\n",
            "nan nan\n"
          ]
        }
      ]
    }
  ]
}
