{
  "nbformat": 4,
  "nbformat_minor": 0,
  "metadata": {
    "colab": {
      "provenance": []
    },
    "kernelspec": {
      "name": "python3",
      "display_name": "Python 3"
    },
    "language_info": {
      "name": "python"
    }
  },
  "cells": [
    {
      "cell_type": "code",
      "execution_count": 12,
      "metadata": {
        "colab": {
          "base_uri": "https://localhost:8080/"
        },
        "id": "9vKWt-Y91baX",
        "outputId": "e10d9625-06c2-4d60-cec1-b6cd36166b3b"
      },
      "outputs": [
        {
          "output_type": "stream",
          "name": "stdout",
          "text": [
            "There is 2 nan values. Here are their index numbers on the valuestocheck: [1, 3]\n",
            "There is 2 strings called nan. Here are their index numbers on the valuestocheck: [4, 5]\n"
          ]
        }
      ],
      "source": [
        "import pandas as pd\n",
        "import numpy as np\n",
        "import math\n",
        "\n",
        "valuestocheck=[1, float(\"nan\"), 3, float(\"nan\"), \"nan\", \"nan\"]\n",
        "\n",
        "iteration=0\n",
        "stringnanlist=[]\n",
        "nanvaluelist=[]\n",
        "\n",
        "for value in valuestocheck:\n",
        "\n",
        "  isnan=0\n",
        "\n",
        "  try: \n",
        "    if pd.isna(value):\n",
        "      isnan=1\n",
        "  except:\n",
        "    pass\n",
        "\n",
        "  try:\n",
        "    if np.isnan(value):\n",
        "      isnan=1\n",
        "  except:\n",
        "    pass\n",
        "\n",
        "  try:\n",
        "    if math.isnan(value):\n",
        "      isnan=1\n",
        "  except:\n",
        "    pass\n",
        "\n",
        "  if value!=value:\n",
        "    isnan=1\n",
        "\n",
        "  try:\n",
        "    if float('-inf') < float(num) < float('inf'):\n",
        "      isnan=1\n",
        "  except:\n",
        "    pass\n",
        "  \n",
        "  if value == \"nan\":\n",
        "    stringnanlist.append(iteration)\n",
        "\n",
        "  if isnan > 0:\n",
        "    nanvaluelist.append(iteration)\n",
        "\n",
        "  iteration+=1\n",
        "\n",
        "if len(nanvaluelist)==0:\n",
        "  print(\"There are no nan values\")\n",
        "elif len(nanvaluelist)==1:\n",
        "  print(\"There is 1 nan value, index number\", nanvaluelist[0], \"on the valuestocheck\")\n",
        "elif len(nanvaluelist)>1:\n",
        "  print(\"There is\", len(nanvaluelist), \"nan values. Here are their index numbers on the valuestocheck:\", [i for i in nanvaluelist])\n",
        "\n",
        "if len(stringnanlist)==1:\n",
        "  print(\"There is 1 string named nan, index number\", stringnanlist[0], \"on the valuestocheck\")\n",
        "elif len(stringnanlist)>1:\n",
        "  print(\"There is\", len(stringnanlist), \"strings called nan. Here are their index numbers on the valuestocheck:\", [i for i in stringnanlist])"
      ]
    }
  ]
}