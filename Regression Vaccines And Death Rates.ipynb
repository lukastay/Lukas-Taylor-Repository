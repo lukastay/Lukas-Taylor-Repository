{
 "cells": [
  {
   "cell_type": "code",
   "execution_count": 24,
   "id": "bf22bf5c",
   "metadata": {
    "ExecuteTime": {
     "start_time": "2023-08-09T08:49:04.336125Z",
     "end_time": "2023-08-09T08:49:04.366360Z"
    }
   },
   "outputs": [
    {
     "ename": "ImportError",
     "evalue": "dlopen(/Library/Frameworks/Python.framework/Versions/3.10/lib/python3.10/site-packages/matplotlib/_c_internal_utils.cpython-310-darwin.so, 0x0002): tried: '/Library/Frameworks/Python.framework/Versions/3.10/lib/python3.10/site-packages/matplotlib/_c_internal_utils.cpython-310-darwin.so' (mach-o file, but is an incompatible architecture (have 'x86_64', need 'arm64')), '/System/Volumes/Preboot/Cryptexes/OS/Library/Frameworks/Python.framework/Versions/3.10/lib/python3.10/site-packages/matplotlib/_c_internal_utils.cpython-310-darwin.so' (no such file), '/Library/Frameworks/Python.framework/Versions/3.10/lib/python3.10/site-packages/matplotlib/_c_internal_utils.cpython-310-darwin.so' (mach-o file, but is an incompatible architecture (have 'x86_64', need 'arm64'))",
     "output_type": "error",
     "traceback": [
      "\u001B[0;31m---------------------------------------------------------------------------\u001B[0m",
      "\u001B[0;31mImportError\u001B[0m                               Traceback (most recent call last)",
      "Cell \u001B[0;32mIn[24], line 3\u001B[0m\n\u001B[1;32m      1\u001B[0m \u001B[38;5;28;01mimport\u001B[39;00m \u001B[38;5;21;01mos\u001B[39;00m\n\u001B[1;32m      2\u001B[0m os\u001B[38;5;241m.\u001B[39mchdir(\u001B[38;5;124m'\u001B[39m\u001B[38;5;124m/Users/lukastaylor/Dropbox/Misc/Old Classes/MSEA Semester 1/ECON 5813/Project\u001B[39m\u001B[38;5;124m'\u001B[39m)\n\u001B[0;32m----> 3\u001B[0m \u001B[43mget_ipython\u001B[49m\u001B[43m(\u001B[49m\u001B[43m)\u001B[49m\u001B[38;5;241;43m.\u001B[39;49m\u001B[43mrun_line_magic\u001B[49m\u001B[43m(\u001B[49m\u001B[38;5;124;43m'\u001B[39;49m\u001B[38;5;124;43mmatplotlib\u001B[39;49m\u001B[38;5;124;43m'\u001B[39;49m\u001B[43m,\u001B[49m\u001B[43m \u001B[49m\u001B[38;5;124;43m'\u001B[39;49m\u001B[38;5;124;43minline\u001B[39;49m\u001B[38;5;124;43m'\u001B[39;49m\u001B[43m)\u001B[49m\n",
      "File \u001B[0;32m/Library/Frameworks/Python.framework/Versions/3.10/lib/python3.10/site-packages/IPython/core/interactiveshell.py:2414\u001B[0m, in \u001B[0;36mInteractiveShell.run_line_magic\u001B[0;34m(self, magic_name, line, _stack_depth)\u001B[0m\n\u001B[1;32m   2412\u001B[0m     kwargs[\u001B[38;5;124m'\u001B[39m\u001B[38;5;124mlocal_ns\u001B[39m\u001B[38;5;124m'\u001B[39m] \u001B[38;5;241m=\u001B[39m \u001B[38;5;28mself\u001B[39m\u001B[38;5;241m.\u001B[39mget_local_scope(stack_depth)\n\u001B[1;32m   2413\u001B[0m \u001B[38;5;28;01mwith\u001B[39;00m \u001B[38;5;28mself\u001B[39m\u001B[38;5;241m.\u001B[39mbuiltin_trap:\n\u001B[0;32m-> 2414\u001B[0m     result \u001B[38;5;241m=\u001B[39m \u001B[43mfn\u001B[49m\u001B[43m(\u001B[49m\u001B[38;5;241;43m*\u001B[39;49m\u001B[43margs\u001B[49m\u001B[43m,\u001B[49m\u001B[43m \u001B[49m\u001B[38;5;241;43m*\u001B[39;49m\u001B[38;5;241;43m*\u001B[39;49m\u001B[43mkwargs\u001B[49m\u001B[43m)\u001B[49m\n\u001B[1;32m   2416\u001B[0m \u001B[38;5;66;03m# The code below prevents the output from being displayed\u001B[39;00m\n\u001B[1;32m   2417\u001B[0m \u001B[38;5;66;03m# when using magics with decodator @output_can_be_silenced\u001B[39;00m\n\u001B[1;32m   2418\u001B[0m \u001B[38;5;66;03m# when the last Python token in the expression is a ';'.\u001B[39;00m\n\u001B[1;32m   2419\u001B[0m \u001B[38;5;28;01mif\u001B[39;00m \u001B[38;5;28mgetattr\u001B[39m(fn, magic\u001B[38;5;241m.\u001B[39mMAGIC_OUTPUT_CAN_BE_SILENCED, \u001B[38;5;28;01mFalse\u001B[39;00m):\n",
      "File \u001B[0;32m/Library/Frameworks/Python.framework/Versions/3.10/lib/python3.10/site-packages/IPython/core/magics/pylab.py:99\u001B[0m, in \u001B[0;36mPylabMagics.matplotlib\u001B[0;34m(self, line)\u001B[0m\n\u001B[1;32m     97\u001B[0m     \u001B[38;5;28mprint\u001B[39m(\u001B[38;5;124m\"\u001B[39m\u001B[38;5;124mAvailable matplotlib backends: \u001B[39m\u001B[38;5;132;01m%s\u001B[39;00m\u001B[38;5;124m\"\u001B[39m \u001B[38;5;241m%\u001B[39m backends_list)\n\u001B[1;32m     98\u001B[0m \u001B[38;5;28;01melse\u001B[39;00m:\n\u001B[0;32m---> 99\u001B[0m     gui, backend \u001B[38;5;241m=\u001B[39m \u001B[38;5;28;43mself\u001B[39;49m\u001B[38;5;241;43m.\u001B[39;49m\u001B[43mshell\u001B[49m\u001B[38;5;241;43m.\u001B[39;49m\u001B[43menable_matplotlib\u001B[49m\u001B[43m(\u001B[49m\u001B[43margs\u001B[49m\u001B[38;5;241;43m.\u001B[39;49m\u001B[43mgui\u001B[49m\u001B[38;5;241;43m.\u001B[39;49m\u001B[43mlower\u001B[49m\u001B[43m(\u001B[49m\u001B[43m)\u001B[49m\u001B[43m \u001B[49m\u001B[38;5;28;43;01mif\u001B[39;49;00m\u001B[43m \u001B[49m\u001B[38;5;28;43misinstance\u001B[39;49m\u001B[43m(\u001B[49m\u001B[43margs\u001B[49m\u001B[38;5;241;43m.\u001B[39;49m\u001B[43mgui\u001B[49m\u001B[43m,\u001B[49m\u001B[43m \u001B[49m\u001B[38;5;28;43mstr\u001B[39;49m\u001B[43m)\u001B[49m\u001B[43m \u001B[49m\u001B[38;5;28;43;01melse\u001B[39;49;00m\u001B[43m \u001B[49m\u001B[43margs\u001B[49m\u001B[38;5;241;43m.\u001B[39;49m\u001B[43mgui\u001B[49m\u001B[43m)\u001B[49m\n\u001B[1;32m    100\u001B[0m     \u001B[38;5;28mself\u001B[39m\u001B[38;5;241m.\u001B[39m_show_matplotlib_backend(args\u001B[38;5;241m.\u001B[39mgui, backend)\n",
      "File \u001B[0;32m/Library/Frameworks/Python.framework/Versions/3.10/lib/python3.10/site-packages/IPython/core/interactiveshell.py:3585\u001B[0m, in \u001B[0;36mInteractiveShell.enable_matplotlib\u001B[0;34m(self, gui)\u001B[0m\n\u001B[1;32m   3564\u001B[0m \u001B[38;5;28;01mdef\u001B[39;00m \u001B[38;5;21menable_matplotlib\u001B[39m(\u001B[38;5;28mself\u001B[39m, gui\u001B[38;5;241m=\u001B[39m\u001B[38;5;28;01mNone\u001B[39;00m):\n\u001B[1;32m   3565\u001B[0m \u001B[38;5;250m    \u001B[39m\u001B[38;5;124;03m\"\"\"Enable interactive matplotlib and inline figure support.\u001B[39;00m\n\u001B[1;32m   3566\u001B[0m \n\u001B[1;32m   3567\u001B[0m \u001B[38;5;124;03m    This takes the following steps:\u001B[39;00m\n\u001B[0;32m   (...)\u001B[0m\n\u001B[1;32m   3583\u001B[0m \u001B[38;5;124;03m        display figures inline.\u001B[39;00m\n\u001B[1;32m   3584\u001B[0m \u001B[38;5;124;03m    \"\"\"\u001B[39;00m\n\u001B[0;32m-> 3585\u001B[0m     \u001B[38;5;28;01mfrom\u001B[39;00m \u001B[38;5;21;01mmatplotlib_inline\u001B[39;00m\u001B[38;5;21;01m.\u001B[39;00m\u001B[38;5;21;01mbackend_inline\u001B[39;00m \u001B[38;5;28;01mimport\u001B[39;00m configure_inline_support\n\u001B[1;32m   3587\u001B[0m     \u001B[38;5;28;01mfrom\u001B[39;00m \u001B[38;5;21;01mIPython\u001B[39;00m\u001B[38;5;21;01m.\u001B[39;00m\u001B[38;5;21;01mcore\u001B[39;00m \u001B[38;5;28;01mimport\u001B[39;00m pylabtools \u001B[38;5;28;01mas\u001B[39;00m pt\n\u001B[1;32m   3588\u001B[0m     gui, backend \u001B[38;5;241m=\u001B[39m pt\u001B[38;5;241m.\u001B[39mfind_gui_and_backend(gui, \u001B[38;5;28mself\u001B[39m\u001B[38;5;241m.\u001B[39mpylab_gui_select)\n",
      "File \u001B[0;32m/Library/Frameworks/Python.framework/Versions/3.10/lib/python3.10/site-packages/matplotlib_inline/__init__.py:1\u001B[0m\n\u001B[0;32m----> 1\u001B[0m \u001B[38;5;28;01mfrom\u001B[39;00m \u001B[38;5;21;01m.\u001B[39;00m \u001B[38;5;28;01mimport\u001B[39;00m backend_inline, config  \u001B[38;5;66;03m# noqa\u001B[39;00m\n\u001B[1;32m      2\u001B[0m __version__ \u001B[38;5;241m=\u001B[39m \u001B[38;5;124m\"\u001B[39m\u001B[38;5;124m0.1.6\u001B[39m\u001B[38;5;124m\"\u001B[39m  \u001B[38;5;66;03m# noqa\u001B[39;00m\n",
      "File \u001B[0;32m/Library/Frameworks/Python.framework/Versions/3.10/lib/python3.10/site-packages/matplotlib_inline/backend_inline.py:6\u001B[0m\n\u001B[1;32m      1\u001B[0m \u001B[38;5;124;03m\"\"\"A matplotlib backend for publishing figures via display_data\"\"\"\u001B[39;00m\n\u001B[1;32m      3\u001B[0m \u001B[38;5;66;03m# Copyright (c) IPython Development Team.\u001B[39;00m\n\u001B[1;32m      4\u001B[0m \u001B[38;5;66;03m# Distributed under the terms of the BSD 3-Clause License.\u001B[39;00m\n\u001B[0;32m----> 6\u001B[0m \u001B[38;5;28;01mimport\u001B[39;00m \u001B[38;5;21;01mmatplotlib\u001B[39;00m\n\u001B[1;32m      7\u001B[0m \u001B[38;5;28;01mfrom\u001B[39;00m \u001B[38;5;21;01mmatplotlib\u001B[39;00m \u001B[38;5;28;01mimport\u001B[39;00m colors\n\u001B[1;32m      8\u001B[0m \u001B[38;5;28;01mfrom\u001B[39;00m \u001B[38;5;21;01mmatplotlib\u001B[39;00m\u001B[38;5;21;01m.\u001B[39;00m\u001B[38;5;21;01mbackends\u001B[39;00m \u001B[38;5;28;01mimport\u001B[39;00m backend_agg\n",
      "File \u001B[0;32m/Library/Frameworks/Python.framework/Versions/3.10/lib/python3.10/site-packages/matplotlib/__init__.py:131\u001B[0m\n\u001B[1;32m    127\u001B[0m \u001B[38;5;28;01mfrom\u001B[39;00m \u001B[38;5;21;01mpackaging\u001B[39;00m\u001B[38;5;21;01m.\u001B[39;00m\u001B[38;5;21;01mversion\u001B[39;00m \u001B[38;5;28;01mimport\u001B[39;00m parse \u001B[38;5;28;01mas\u001B[39;00m parse_version\n\u001B[1;32m    129\u001B[0m \u001B[38;5;66;03m# cbook must import matplotlib only within function\u001B[39;00m\n\u001B[1;32m    130\u001B[0m \u001B[38;5;66;03m# definitions, so it is safe to import from it here.\u001B[39;00m\n\u001B[0;32m--> 131\u001B[0m \u001B[38;5;28;01mfrom\u001B[39;00m \u001B[38;5;21;01m.\u001B[39;00m \u001B[38;5;28;01mimport\u001B[39;00m _api, _version, cbook, _docstring, rcsetup\n\u001B[1;32m    132\u001B[0m \u001B[38;5;28;01mfrom\u001B[39;00m \u001B[38;5;21;01mmatplotlib\u001B[39;00m\u001B[38;5;21;01m.\u001B[39;00m\u001B[38;5;21;01mcbook\u001B[39;00m \u001B[38;5;28;01mimport\u001B[39;00m sanitize_sequence\n\u001B[1;32m    133\u001B[0m \u001B[38;5;28;01mfrom\u001B[39;00m \u001B[38;5;21;01mmatplotlib\u001B[39;00m\u001B[38;5;21;01m.\u001B[39;00m\u001B[38;5;21;01m_api\u001B[39;00m \u001B[38;5;28;01mimport\u001B[39;00m MatplotlibDeprecationWarning\n",
      "File \u001B[0;32m/Library/Frameworks/Python.framework/Versions/3.10/lib/python3.10/site-packages/matplotlib/cbook/__init__.py:30\u001B[0m\n\u001B[1;32m     27\u001B[0m \u001B[38;5;28;01mimport\u001B[39;00m \u001B[38;5;21;01mnumpy\u001B[39;00m \u001B[38;5;28;01mas\u001B[39;00m \u001B[38;5;21;01mnp\u001B[39;00m\n\u001B[1;32m     29\u001B[0m \u001B[38;5;28;01mimport\u001B[39;00m \u001B[38;5;21;01mmatplotlib\u001B[39;00m\n\u001B[0;32m---> 30\u001B[0m \u001B[38;5;28;01mfrom\u001B[39;00m \u001B[38;5;21;01mmatplotlib\u001B[39;00m \u001B[38;5;28;01mimport\u001B[39;00m _api, _c_internal_utils\n\u001B[1;32m     33\u001B[0m \u001B[38;5;129m@_api\u001B[39m\u001B[38;5;241m.\u001B[39mcaching_module_getattr\n\u001B[1;32m     34\u001B[0m \u001B[38;5;28;01mclass\u001B[39;00m \u001B[38;5;21;01m__getattr__\u001B[39;00m:\n\u001B[1;32m     35\u001B[0m     \u001B[38;5;66;03m# module-level deprecations\u001B[39;00m\n\u001B[1;32m     36\u001B[0m     MatplotlibDeprecationWarning \u001B[38;5;241m=\u001B[39m _api\u001B[38;5;241m.\u001B[39mdeprecated(\n\u001B[1;32m     37\u001B[0m         \u001B[38;5;124m\"\u001B[39m\u001B[38;5;124m3.6\u001B[39m\u001B[38;5;124m\"\u001B[39m, obj_type\u001B[38;5;241m=\u001B[39m\u001B[38;5;124m\"\u001B[39m\u001B[38;5;124m\"\u001B[39m,\n\u001B[1;32m     38\u001B[0m         alternative\u001B[38;5;241m=\u001B[39m\u001B[38;5;124m\"\u001B[39m\u001B[38;5;124mmatplotlib.MatplotlibDeprecationWarning\u001B[39m\u001B[38;5;124m\"\u001B[39m)(\n\u001B[1;32m     39\u001B[0m         \u001B[38;5;28mproperty\u001B[39m(\u001B[38;5;28;01mlambda\u001B[39;00m \u001B[38;5;28mself\u001B[39m: _api\u001B[38;5;241m.\u001B[39mdeprecation\u001B[38;5;241m.\u001B[39mMatplotlibDeprecationWarning))\n",
      "\u001B[0;31mImportError\u001B[0m: dlopen(/Library/Frameworks/Python.framework/Versions/3.10/lib/python3.10/site-packages/matplotlib/_c_internal_utils.cpython-310-darwin.so, 0x0002): tried: '/Library/Frameworks/Python.framework/Versions/3.10/lib/python3.10/site-packages/matplotlib/_c_internal_utils.cpython-310-darwin.so' (mach-o file, but is an incompatible architecture (have 'x86_64', need 'arm64')), '/System/Volumes/Preboot/Cryptexes/OS/Library/Frameworks/Python.framework/Versions/3.10/lib/python3.10/site-packages/matplotlib/_c_internal_utils.cpython-310-darwin.so' (no such file), '/Library/Frameworks/Python.framework/Versions/3.10/lib/python3.10/site-packages/matplotlib/_c_internal_utils.cpython-310-darwin.so' (mach-o file, but is an incompatible architecture (have 'x86_64', need 'arm64'))"
     ]
    }
   ],
   "source": [
    "import os\n",
    "os.chdir('/Users/lukastaylor/Dropbox/Misc/Old Classes/MSEA Semester 1/ECON 5813/Project')\n",
    "%matplotlib inline\n"
   ]
  },
  {
   "cell_type": "code",
   "execution_count": 23,
   "id": "071c554d",
   "metadata": {},
   "outputs": [
    {
     "ename": "ImportError",
     "evalue": "dlopen(/Library/Frameworks/Python.framework/Versions/3.10/lib/python3.10/site-packages/pandas/_libs/interval.cpython-310-darwin.so, 0x0002): tried: '/Library/Frameworks/Python.framework/Versions/3.10/lib/python3.10/site-packages/pandas/_libs/interval.cpython-310-darwin.so' (mach-o file, but is an incompatible architecture (have 'x86_64', need 'arm64')), '/System/Volumes/Preboot/Cryptexes/OS/Library/Frameworks/Python.framework/Versions/3.10/lib/python3.10/site-packages/pandas/_libs/interval.cpython-310-darwin.so' (no such file), '/Library/Frameworks/Python.framework/Versions/3.10/lib/python3.10/site-packages/pandas/_libs/interval.cpython-310-darwin.so' (mach-o file, but is an incompatible architecture (have 'x86_64', need 'arm64'))",
     "output_type": "error",
     "traceback": [
      "\u001B[0;31m---------------------------------------------------------------------------\u001B[0m",
      "\u001B[0;31mImportError\u001B[0m                               Traceback (most recent call last)",
      "Cell \u001B[0;32mIn[23], line 2\u001B[0m\n\u001B[1;32m      1\u001B[0m \u001B[38;5;28;01mimport\u001B[39;00m \u001B[38;5;21;01mnumpy\u001B[39;00m \u001B[38;5;28;01mas\u001B[39;00m \u001B[38;5;21;01mnp\u001B[39;00m \n\u001B[0;32m----> 2\u001B[0m \u001B[38;5;28;01mimport\u001B[39;00m \u001B[38;5;21;01mpandas\u001B[39;00m \u001B[38;5;28;01mas\u001B[39;00m \u001B[38;5;21;01mpd\u001B[39;00m \n\u001B[1;32m      3\u001B[0m \u001B[38;5;28;01mimport\u001B[39;00m \u001B[38;5;21;01mmath\u001B[39;00m \n\u001B[1;32m      4\u001B[0m \u001B[38;5;28;01mfrom\u001B[39;00m \u001B[38;5;21;01mtime\u001B[39;00m \u001B[38;5;28;01mimport\u001B[39;00m sleep\n",
      "File \u001B[0;32m/Library/Frameworks/Python.framework/Versions/3.10/lib/python3.10/site-packages/pandas/__init__.py:22\u001B[0m\n\u001B[1;32m     19\u001B[0m \u001B[38;5;28;01mdel\u001B[39;00m _hard_dependencies, _dependency, _missing_dependencies\n\u001B[1;32m     21\u001B[0m \u001B[38;5;66;03m# numpy compat\u001B[39;00m\n\u001B[0;32m---> 22\u001B[0m \u001B[38;5;28;01mfrom\u001B[39;00m \u001B[38;5;21;01mpandas\u001B[39;00m\u001B[38;5;21;01m.\u001B[39;00m\u001B[38;5;21;01mcompat\u001B[39;00m \u001B[38;5;28;01mimport\u001B[39;00m is_numpy_dev \u001B[38;5;28;01mas\u001B[39;00m _is_numpy_dev  \u001B[38;5;66;03m# pyright: ignore # noqa:F401\u001B[39;00m\n\u001B[1;32m     24\u001B[0m \u001B[38;5;28;01mtry\u001B[39;00m:\n\u001B[1;32m     25\u001B[0m     \u001B[38;5;28;01mfrom\u001B[39;00m \u001B[38;5;21;01mpandas\u001B[39;00m\u001B[38;5;21;01m.\u001B[39;00m\u001B[38;5;21;01m_libs\u001B[39;00m \u001B[38;5;28;01mimport\u001B[39;00m hashtable \u001B[38;5;28;01mas\u001B[39;00m _hashtable, lib \u001B[38;5;28;01mas\u001B[39;00m _lib, tslib \u001B[38;5;28;01mas\u001B[39;00m _tslib\n",
      "File \u001B[0;32m/Library/Frameworks/Python.framework/Versions/3.10/lib/python3.10/site-packages/pandas/compat/__init__.py:25\u001B[0m\n\u001B[1;32m     17\u001B[0m \u001B[38;5;28;01mfrom\u001B[39;00m \u001B[38;5;21;01mpandas\u001B[39;00m\u001B[38;5;21;01m.\u001B[39;00m\u001B[38;5;21;01mcompat\u001B[39;00m\u001B[38;5;21;01m.\u001B[39;00m\u001B[38;5;21;01m_constants\u001B[39;00m \u001B[38;5;28;01mimport\u001B[39;00m (\n\u001B[1;32m     18\u001B[0m     IS64,\n\u001B[1;32m     19\u001B[0m     PY39,\n\u001B[0;32m   (...)\u001B[0m\n\u001B[1;32m     22\u001B[0m     PYPY,\n\u001B[1;32m     23\u001B[0m )\n\u001B[1;32m     24\u001B[0m \u001B[38;5;28;01mimport\u001B[39;00m \u001B[38;5;21;01mpandas\u001B[39;00m\u001B[38;5;21;01m.\u001B[39;00m\u001B[38;5;21;01mcompat\u001B[39;00m\u001B[38;5;21;01m.\u001B[39;00m\u001B[38;5;21;01mcompressors\u001B[39;00m\n\u001B[0;32m---> 25\u001B[0m \u001B[38;5;28;01mfrom\u001B[39;00m \u001B[38;5;21;01mpandas\u001B[39;00m\u001B[38;5;21;01m.\u001B[39;00m\u001B[38;5;21;01mcompat\u001B[39;00m\u001B[38;5;21;01m.\u001B[39;00m\u001B[38;5;21;01mnumpy\u001B[39;00m \u001B[38;5;28;01mimport\u001B[39;00m (\n\u001B[1;32m     26\u001B[0m     is_numpy_dev,\n\u001B[1;32m     27\u001B[0m     np_version_under1p21,\n\u001B[1;32m     28\u001B[0m )\n\u001B[1;32m     29\u001B[0m \u001B[38;5;28;01mfrom\u001B[39;00m \u001B[38;5;21;01mpandas\u001B[39;00m\u001B[38;5;21;01m.\u001B[39;00m\u001B[38;5;21;01mcompat\u001B[39;00m\u001B[38;5;21;01m.\u001B[39;00m\u001B[38;5;21;01mpyarrow\u001B[39;00m \u001B[38;5;28;01mimport\u001B[39;00m (\n\u001B[1;32m     30\u001B[0m     pa_version_under7p0,\n\u001B[1;32m     31\u001B[0m     pa_version_under8p0,\n\u001B[1;32m     32\u001B[0m     pa_version_under9p0,\n\u001B[1;32m     33\u001B[0m     pa_version_under11p0,\n\u001B[1;32m     34\u001B[0m )\n\u001B[1;32m     37\u001B[0m \u001B[38;5;28;01mdef\u001B[39;00m \u001B[38;5;21mset_function_name\u001B[39m(f: F, name: \u001B[38;5;28mstr\u001B[39m, \u001B[38;5;28mcls\u001B[39m) \u001B[38;5;241m-\u001B[39m\u001B[38;5;241m>\u001B[39m F:\n",
      "File \u001B[0;32m/Library/Frameworks/Python.framework/Versions/3.10/lib/python3.10/site-packages/pandas/compat/numpy/__init__.py:4\u001B[0m\n\u001B[1;32m      1\u001B[0m \u001B[38;5;124;03m\"\"\" support numpy compatibility across versions \"\"\"\u001B[39;00m\n\u001B[1;32m      2\u001B[0m \u001B[38;5;28;01mimport\u001B[39;00m \u001B[38;5;21;01mnumpy\u001B[39;00m \u001B[38;5;28;01mas\u001B[39;00m \u001B[38;5;21;01mnp\u001B[39;00m\n\u001B[0;32m----> 4\u001B[0m \u001B[38;5;28;01mfrom\u001B[39;00m \u001B[38;5;21;01mpandas\u001B[39;00m\u001B[38;5;21;01m.\u001B[39;00m\u001B[38;5;21;01mutil\u001B[39;00m\u001B[38;5;21;01m.\u001B[39;00m\u001B[38;5;21;01mversion\u001B[39;00m \u001B[38;5;28;01mimport\u001B[39;00m Version\n\u001B[1;32m      6\u001B[0m \u001B[38;5;66;03m# numpy versioning\u001B[39;00m\n\u001B[1;32m      7\u001B[0m _np_version \u001B[38;5;241m=\u001B[39m np\u001B[38;5;241m.\u001B[39m__version__\n",
      "File \u001B[0;32m/Library/Frameworks/Python.framework/Versions/3.10/lib/python3.10/site-packages/pandas/util/__init__.py:2\u001B[0m\n\u001B[1;32m      1\u001B[0m \u001B[38;5;66;03m# pyright: reportUnusedImport = false\u001B[39;00m\n\u001B[0;32m----> 2\u001B[0m \u001B[38;5;28;01mfrom\u001B[39;00m \u001B[38;5;21;01mpandas\u001B[39;00m\u001B[38;5;21;01m.\u001B[39;00m\u001B[38;5;21;01mutil\u001B[39;00m\u001B[38;5;21;01m.\u001B[39;00m\u001B[38;5;21;01m_decorators\u001B[39;00m \u001B[38;5;28;01mimport\u001B[39;00m (  \u001B[38;5;66;03m# noqa:F401\u001B[39;00m\n\u001B[1;32m      3\u001B[0m     Appender,\n\u001B[1;32m      4\u001B[0m     Substitution,\n\u001B[1;32m      5\u001B[0m     cache_readonly,\n\u001B[1;32m      6\u001B[0m )\n\u001B[1;32m      8\u001B[0m \u001B[38;5;28;01mfrom\u001B[39;00m \u001B[38;5;21;01mpandas\u001B[39;00m\u001B[38;5;21;01m.\u001B[39;00m\u001B[38;5;21;01mcore\u001B[39;00m\u001B[38;5;21;01m.\u001B[39;00m\u001B[38;5;21;01mutil\u001B[39;00m\u001B[38;5;21;01m.\u001B[39;00m\u001B[38;5;21;01mhashing\u001B[39;00m \u001B[38;5;28;01mimport\u001B[39;00m (  \u001B[38;5;66;03m# noqa:F401\u001B[39;00m\n\u001B[1;32m      9\u001B[0m     hash_array,\n\u001B[1;32m     10\u001B[0m     hash_pandas_object,\n\u001B[1;32m     11\u001B[0m )\n",
      "File \u001B[0;32m/Library/Frameworks/Python.framework/Versions/3.10/lib/python3.10/site-packages/pandas/util/_decorators.py:14\u001B[0m\n\u001B[1;32m      6\u001B[0m \u001B[38;5;28;01mfrom\u001B[39;00m \u001B[38;5;21;01mtyping\u001B[39;00m \u001B[38;5;28;01mimport\u001B[39;00m (\n\u001B[1;32m      7\u001B[0m     Any,\n\u001B[1;32m      8\u001B[0m     Callable,\n\u001B[1;32m      9\u001B[0m     Mapping,\n\u001B[1;32m     10\u001B[0m     cast,\n\u001B[1;32m     11\u001B[0m )\n\u001B[1;32m     12\u001B[0m \u001B[38;5;28;01mimport\u001B[39;00m \u001B[38;5;21;01mwarnings\u001B[39;00m\n\u001B[0;32m---> 14\u001B[0m \u001B[38;5;28;01mfrom\u001B[39;00m \u001B[38;5;21;01mpandas\u001B[39;00m\u001B[38;5;21;01m.\u001B[39;00m\u001B[38;5;21;01m_libs\u001B[39;00m\u001B[38;5;21;01m.\u001B[39;00m\u001B[38;5;21;01mproperties\u001B[39;00m \u001B[38;5;28;01mimport\u001B[39;00m cache_readonly\n\u001B[1;32m     15\u001B[0m \u001B[38;5;28;01mfrom\u001B[39;00m \u001B[38;5;21;01mpandas\u001B[39;00m\u001B[38;5;21;01m.\u001B[39;00m\u001B[38;5;21;01m_typing\u001B[39;00m \u001B[38;5;28;01mimport\u001B[39;00m (\n\u001B[1;32m     16\u001B[0m     F,\n\u001B[1;32m     17\u001B[0m     T,\n\u001B[1;32m     18\u001B[0m )\n\u001B[1;32m     19\u001B[0m \u001B[38;5;28;01mfrom\u001B[39;00m \u001B[38;5;21;01mpandas\u001B[39;00m\u001B[38;5;21;01m.\u001B[39;00m\u001B[38;5;21;01mutil\u001B[39;00m\u001B[38;5;21;01m.\u001B[39;00m\u001B[38;5;21;01m_exceptions\u001B[39;00m \u001B[38;5;28;01mimport\u001B[39;00m find_stack_level\n",
      "File \u001B[0;32m/Library/Frameworks/Python.framework/Versions/3.10/lib/python3.10/site-packages/pandas/_libs/__init__.py:13\u001B[0m\n\u001B[1;32m      1\u001B[0m __all__ \u001B[38;5;241m=\u001B[39m [\n\u001B[1;32m      2\u001B[0m     \u001B[38;5;124m\"\u001B[39m\u001B[38;5;124mNaT\u001B[39m\u001B[38;5;124m\"\u001B[39m,\n\u001B[1;32m      3\u001B[0m     \u001B[38;5;124m\"\u001B[39m\u001B[38;5;124mNaTType\u001B[39m\u001B[38;5;124m\"\u001B[39m,\n\u001B[0;32m   (...)\u001B[0m\n\u001B[1;32m      9\u001B[0m     \u001B[38;5;124m\"\u001B[39m\u001B[38;5;124mInterval\u001B[39m\u001B[38;5;124m\"\u001B[39m,\n\u001B[1;32m     10\u001B[0m ]\n\u001B[0;32m---> 13\u001B[0m \u001B[38;5;28;01mfrom\u001B[39;00m \u001B[38;5;21;01mpandas\u001B[39;00m\u001B[38;5;21;01m.\u001B[39;00m\u001B[38;5;21;01m_libs\u001B[39;00m\u001B[38;5;21;01m.\u001B[39;00m\u001B[38;5;21;01minterval\u001B[39;00m \u001B[38;5;28;01mimport\u001B[39;00m Interval\n\u001B[1;32m     14\u001B[0m \u001B[38;5;28;01mfrom\u001B[39;00m \u001B[38;5;21;01mpandas\u001B[39;00m\u001B[38;5;21;01m.\u001B[39;00m\u001B[38;5;21;01m_libs\u001B[39;00m\u001B[38;5;21;01m.\u001B[39;00m\u001B[38;5;21;01mtslibs\u001B[39;00m \u001B[38;5;28;01mimport\u001B[39;00m (\n\u001B[1;32m     15\u001B[0m     NaT,\n\u001B[1;32m     16\u001B[0m     NaTType,\n\u001B[0;32m   (...)\u001B[0m\n\u001B[1;32m     21\u001B[0m     iNaT,\n\u001B[1;32m     22\u001B[0m )\n",
      "\u001B[0;31mImportError\u001B[0m: dlopen(/Library/Frameworks/Python.framework/Versions/3.10/lib/python3.10/site-packages/pandas/_libs/interval.cpython-310-darwin.so, 0x0002): tried: '/Library/Frameworks/Python.framework/Versions/3.10/lib/python3.10/site-packages/pandas/_libs/interval.cpython-310-darwin.so' (mach-o file, but is an incompatible architecture (have 'x86_64', need 'arm64')), '/System/Volumes/Preboot/Cryptexes/OS/Library/Frameworks/Python.framework/Versions/3.10/lib/python3.10/site-packages/pandas/_libs/interval.cpython-310-darwin.so' (no such file), '/Library/Frameworks/Python.framework/Versions/3.10/lib/python3.10/site-packages/pandas/_libs/interval.cpython-310-darwin.so' (mach-o file, but is an incompatible architecture (have 'x86_64', need 'arm64'))"
     ]
    }
   ],
   "source": [
    "import numpy as np \n",
    "import pandas as pd \n",
    "import math \n",
    "from time import sleep\n",
    "from tqdm import tqdm\n",
    "from tqdm.notebook import tqdm\n",
    "import sys\n",
    "import time\n",
    "\n",
    "raw0 = pd.read_csv('vaccine data2.csv')\n",
    "raw1 = pd.read_csv('deaths data.csv')\n",
    "raw2 = pd.read_csv('county info.csv')\n",
    "for n in range(0,3283):\n",
    "    raw0.iloc[n,1] = raw0.iloc[n,1] + \" \" + raw0.iloc[n,0]\n",
    "for n in range(0,3086):\n",
    "    raw1.iloc[n,1] = raw1.iloc[n,1] + \" \" + raw1.iloc[n,0]"
   ]
  },
  {
   "cell_type": "code",
   "execution_count": null,
   "id": "0f263dba",
   "metadata": {},
   "outputs": [],
   "source": [
    "us_state_to_abbrev = {\n",
    "    \"Alabama\": \"AL\",\n",
    "    \"Alaska\": \"AK\",\n",
    "    \"Arizona\": \"AZ\",\n",
    "    \"Arkansas\": \"AR\",\n",
    "    \"California\": \"CA\",\n",
    "    \"Colorado\": \"CO\",\n",
    "    \"Connecticut\": \"CT\",\n",
    "    \"Delaware\": \"DE\",\n",
    "    \"Florida\": \"FL\",\n",
    "    \"Georgia\": \"GA\",\n",
    "    \"Hawaii\": \"HI\",\n",
    "    \"Idaho\": \"ID\",\n",
    "    \"Illinois\": \"IL\",\n",
    "    \"Indiana\": \"IN\",\n",
    "    \"Iowa\": \"IA\",\n",
    "    \"Kansas\": \"KS\",\n",
    "    \"Kentucky\": \"KY\",\n",
    "    \"Louisiana\": \"LA\",\n",
    "    \"Maine\": \"ME\",\n",
    "    \"Maryland\": \"MD\",\n",
    "    \"Massachusetts\": \"MA\",\n",
    "    \"Michigan\": \"MI\",\n",
    "    \"Minnesota\": \"MN\",\n",
    "    \"Mississippi\": \"MS\",\n",
    "    \"Missouri\": \"MO\",\n",
    "    \"Montana\": \"MT\",\n",
    "    \"Nebraska\": \"NE\",\n",
    "    \"Nevada\": \"NV\",\n",
    "    \"New Hampshire\": \"NH\",\n",
    "    \"New Jersey\": \"NJ\",\n",
    "    \"New Mexico\": \"NM\",\n",
    "    \"New York\": \"NY\",\n",
    "    \"North Carolina\": \"NC\",\n",
    "    \"North Dakota\": \"ND\",\n",
    "    \"Ohio\": \"OH\",\n",
    "    \"Oklahoma\": \"OK\",\n",
    "    \"Oregon\": \"OR\",\n",
    "    \"Pennsylvania\": \"PA\",\n",
    "    \"Rhode Island\": \"RI\",\n",
    "    \"South Carolina\": \"SC\",\n",
    "    \"South Dakota\": \"SD\",\n",
    "    \"Tennessee\": \"TN\",\n",
    "    \"Texas\": \"TX\",\n",
    "    \"Utah\": \"UT\",\n",
    "    \"Vermont\": \"VT\",\n",
    "    \"Virginia\": \"VA\",\n",
    "    \"Washington\": \"WA\",\n",
    "    \"West Virginia\": \"WV\",\n",
    "    \"Wisconsin\": \"WI\",\n",
    "    \"Wyoming\": \"WY\",\n",
    "    \"District of Columbia\": \"DC\",\n",
    "    \"American Samoa\": \"AS\",\n",
    "    \"Guam\": \"GU\",\n",
    "    \"Northern Mariana Islands\": \"MP\",\n",
    "    \"Puerto Rico\": \"PR\",\n",
    "    \"United States Minor Outlying Islands\": \"UM\",\n",
    "    \"U.S. Virgin Islands\": \"VI\",\n",
    "}\n",
    "for p in range (0, 3142):\n",
    "    raw2.iloc[p,0]=us_state_to_abbrev.get(raw2.iloc[p,0])\n",
    "\n",
    "for n in range(0,3142):\n",
    "    raw2.iloc[n,1] = raw2.iloc[n,0] + \" \" + raw2.iloc[n,1]"
   ]
  },
  {
   "cell_type": "code",
   "execution_count": null,
   "id": "9610636b",
   "metadata": {},
   "outputs": [],
   "source": [
    "county = []\n",
    "ruralurban = []\n",
    "deaths = []\n",
    "dose1 = []\n",
    "series = []\n",
    "booster = []\n",
    "pop = []\n",
    "hsgrad = []\n",
    "homeownership = []\n",
    "under5 = []\n",
    "over65 = []\n",
    "female = []\n",
    "black = []\n",
    "white = []\n",
    "percapincome = []\n",
    "density = []\n",
    "age = []\n",
    "def doWork():\n",
    "    for i in range (0,raw1.shape[0]-1):\n",
    "        if raw0.iloc[n,1] == raw1.iloc[i,1]:\n",
    "            start=i-200\n",
    "            end=i+200\n",
    "            if start < 0:\n",
    "                start = 0\n",
    "            elif end > raw2.shape[0]-1:\n",
    "                end = raw2.shape[0]-1\n",
    "            for d in range(start,end):\n",
    "                if raw0.iloc[n,1] == raw2.iloc[d,1]:\n",
    "                    hsgrad.append(raw2.iloc[d,2])\n",
    "                    homeownership.append(raw2.iloc[d,3])\n",
    "                    under5.append(raw2.iloc[d,4])\n",
    "                    over65.append(raw2.iloc[d,5])\n",
    "                    female.append(raw2.iloc[d,6])\n",
    "                    black.append(raw2.iloc[d,7])\n",
    "                    white.append(raw2.iloc[d,8])\n",
    "                    percapincome.append(raw2.iloc[d,9])\n",
    "                    density.append(raw2.iloc[d,11])\n",
    "                    age.append(raw2.iloc[d,14])\n",
    "                    county.append(raw0.iloc[n,1])\n",
    "                    ruralurban.append(raw1.iloc[i,2])\n",
    "                    deaths.append(raw1.iloc[i,3])\n",
    "                    dose1.append(raw0.iloc[n,2])\n",
    "                    series.append(raw0.iloc[n,3])\n",
    "                    booster.append(raw0.iloc[n,4])\n",
    "                    pop.append(raw0.iloc[n,5])\n",
    "                    return\n",
    "for n in range (0,raw0.shape[0]-1):\n",
    "    doWork()\n",
    "    if n==round(raw0.shape[0]/3, 0):\n",
    "        print(\"33% done\")\n",
    "    elif n==round(2*raw0.shape[0]/3, 0):\n",
    "        print(\"66% done\")"
   ]
  },
  {
   "cell_type": "code",
   "execution_count": null,
   "id": "70d2482a",
   "metadata": {
    "ExecuteTime": {
     "start_time": "2023-08-09T08:34:51.955381Z",
     "end_time": "2023-08-09T08:34:51.970312Z"
    }
   },
   "outputs": [],
   "source": [
    "deathspercap = []\n",
    "for p in range(0,len(deaths)):\n",
    "    #x = float(deaths[p])\n",
    "    #if math.isnan(x):\n",
    "        #y=0\n",
    "    #else:\n",
    "    deathspercap.append(deaths[p]/pop[p])"
   ]
  },
  {
   "cell_type": "code",
   "execution_count": null,
   "id": "63d026d3",
   "metadata": {
    "ExecuteTime": {
     "start_time": "2023-08-09T08:34:52.540337Z",
     "end_time": "2023-08-09T08:34:52.561796Z"
    }
   },
   "outputs": [],
   "source": [
    "def popout(p):\n",
    "    county.pop(p)\n",
    "    ruralurban.pop(p)\n",
    "    deaths.pop(p)\n",
    "    dose1.pop(p)\n",
    "    series.pop(p)\n",
    "    booster.pop(p)\n",
    "    pop.pop(p)\n",
    "    deathspercap.pop(p)\n",
    "\n",
    "    hsgrad.pop(p)\n",
    "    homeownership.pop(p)\n",
    "    under5.pop(p)\n",
    "    over65.pop(p)\n",
    "    female.pop(p)\n",
    "    black.pop(p)\n",
    "    white.pop(p)\n",
    "    percapincome.pop(p)\n",
    "    density.pop(p)\n",
    "    age.pop(p)\n",
    "for p in range(0,len(county)):\n",
    "    try:\n",
    "        if not county[p]:\n",
    "            popout()\n",
    "            continue\n",
    "\n",
    "        if not ruralurban[p]:\n",
    "            popout()\n",
    "            continue\n",
    "\n",
    "        b = float(dose1[p])\n",
    "        if math.isnan(b):\n",
    "            popout()\n",
    "            continue\n",
    "\n",
    "        c = float(series[p])\n",
    "        if math.isnan(c):\n",
    "            popout()\n",
    "            continue\n",
    "\n",
    "        d = float(booster[p])\n",
    "        if math.isnan(d):\n",
    "            popout()\n",
    "            continue\n",
    "\n",
    "        e = float(deathspercap[p])\n",
    "        if math.isnan(e):\n",
    "            popout()\n",
    "            continue\n",
    "\n",
    "        e = float(hsgrad[p])\n",
    "        if math.isnan(e):\n",
    "            popout()\n",
    "            continue\n",
    "        e = float(homeownership[p])\n",
    "        if math.isnan(e):\n",
    "            popout()\n",
    "            continue\n",
    "        e = float(under5[p])\n",
    "        if math.isnan(e):\n",
    "            popout()\n",
    "            continue\n",
    "        e = float(over65[p])\n",
    "        if math.isnan(e):\n",
    "            popout()\n",
    "            continue\n",
    "        e = float(female[p])\n",
    "        if math.isnan(e):\n",
    "            popout()\n",
    "            continue\n",
    "        e = float(black[p])\n",
    "        if math.isnan(e):\n",
    "            popout()\n",
    "            continue\n",
    "        e = float(white[p])\n",
    "        if math.isnan(e):\n",
    "            popout()\n",
    "            continue\n",
    "        e = float(percapincome[p])\n",
    "        if math.isnan(e):\n",
    "            popout()\n",
    "            continue\n",
    "        e = float(density[p])\n",
    "        if math.isnan(e):\n",
    "            popout()\n",
    "            continue\n",
    "        e = float(age[p])\n",
    "        if math.isnan(e):\n",
    "            popout()\n",
    "            continue\n",
    "    except:\n",
    "        y=1"
   ]
  },
  {
   "cell_type": "code",
   "execution_count": null,
   "id": "ab5c8689",
   "metadata": {
    "ExecuteTime": {
     "start_time": "2023-08-09T08:34:53.123397Z",
     "end_time": "2023-08-09T08:34:53.136652Z"
    }
   },
   "outputs": [],
   "source": [
    "q=len(county)\n",
    "w=len(ruralurban)\n",
    "e=len(deathspercap)\n",
    "r=len(dose1)\n",
    "t=len(series)\n",
    "y=len(booster)\n",
    "u=len(pop)\n",
    "i=len(hsgrad)\n",
    "o=len(homeownership)\n",
    "p=len(under5)\n",
    "a=len(over65)\n",
    "s=len(female)\n",
    "d=len(black)\n",
    "f=len(white)\n",
    "g=len(percapincome)\n",
    "h=len(density)\n",
    "j=len(age)\n",
    "\n",
    "if q==w==e==r==t==y==u==i==o==p==a==s==d==f==g==h==j:\n",
    "    print(\"same dimensions\", len(county))\n",
    "else:\n",
    "    print(\"different dimensions\")\n",
    "    print(a)\n",
    "    print(b)\n",
    "    print(c)\n",
    "    print(d)\n",
    "    print(e)\n",
    "    print(f)\n",
    "    print(g)\n",
    "    print(h)"
   ]
  },
  {
   "cell_type": "code",
   "execution_count": null,
   "id": "3dd67444",
   "metadata": {
    "ExecuteTime": {
     "start_time": "2023-08-09T08:34:53.708749Z",
     "end_time": "2023-08-09T08:34:53.733245Z"
    }
   },
   "outputs": [],
   "source": [
    "x=0\n",
    "for n in deathspercap:\n",
    "    if n>=1:\n",
    "        popout(x)\n",
    "    x=x+1"
   ]
  },
  {
   "cell_type": "code",
   "execution_count": null,
   "id": "8f60e6ba",
   "metadata": {},
   "outputs": [],
   "source": [
    "df = pd.DataFrame(list(zip(county, deathspercap, dose1, series, booster, pop, hsgrad, homeownership, under5, over65, female, black, white, percapincome, density, age)),\n",
    "               columns =['county','deathspercap', 'dose1','series','booster','pop', 'hsgrad', 'homeownership', 'under5', 'over65', 'female', 'black', 'white', 'percapitaincome', 'density', 'age'])"
   ]
  },
  {
   "cell_type": "code",
   "execution_count": null,
   "id": "8eafadb6",
   "metadata": {},
   "outputs": [],
   "source": [
    "df=df.dropna()\n",
    "df"
   ]
  },
  {
   "cell_type": "code",
   "execution_count": null,
   "id": "705ba014",
   "metadata": {},
   "outputs": [],
   "source": [
    "from statsmodels.compat import lzip\n",
    "import numpy as np\n",
    "import matplotlib.pyplot as plt\n",
    "import statsmodels.api as sm\n",
    "from statsmodels.formula.api import ols\n",
    "import seaborn as sns\n",
    "\n",
    "\n",
    "import statsmodels.formula.api as smf\n",
    "OLS3 = smf.ols('deathspercap ~ dose1', data=df).fit()\n",
    "print(\"AIC is\", OLS3.aic)\n",
    "print(\"BIS is\", OLS3.bic)\n",
    "print(\"R-Squared is\", OLS3.rsquared_adj)\n",
    "print(OLS3.summary())\n",
    "\n",
    "sns.regplot(x='dose1', y='deathspercap', data=df, scatter=False)"
   ]
  },
  {
   "cell_type": "code",
   "execution_count": null,
   "id": "72883cd3",
   "metadata": {},
   "outputs": [],
   "source": [
    "import statsmodels.formula.api as smf\n",
    "OLS3 = smf.ols('deathspercap ~ series', data=df).fit()\n",
    "print(\"AIC is\", OLS3.aic)\n",
    "print(\"BIS is\", OLS3.bic)\n",
    "print(\"R-Squared is\", OLS3.rsquared_adj)\n",
    "print(OLS3.summary())\n",
    "sns.regplot(x='series', y='deathspercap', data=df, scatter=False)"
   ]
  },
  {
   "cell_type": "code",
   "execution_count": null,
   "id": "1dec8a35",
   "metadata": {},
   "outputs": [],
   "source": [
    "import statsmodels.formula.api as smf\n",
    "OLS3 = smf.ols('deathspercap ~ booster', data=df).fit()\n",
    "print(\"AIC is\", OLS3.aic)\n",
    "print(\"BIS is\", OLS3.bic)\n",
    "print(\"R-Squared is\", OLS3.rsquared_adj)\n",
    "print(OLS3.summary())\n",
    "sns.regplot(x='booster', y='deathspercap', data=df, scatter=False)"
   ]
  },
  {
   "cell_type": "code",
   "execution_count": null,
   "id": "780c342a",
   "metadata": {},
   "outputs": [],
   "source": [
    "OLS3 = smf.ols('deathspercap ~ dose1 + pop + density + percapitaincome', data=df).fit()\n",
    "print(\"AIC is\", OLS3.aic)\n",
    "print(\"BIS is\", OLS3.bic)\n",
    "print(\"R-Squared is\", OLS3.rsquared_adj)\n",
    "print(OLS3.summary())"
   ]
  },
  {
   "cell_type": "code",
   "execution_count": null,
   "id": "daaaacbe",
   "metadata": {},
   "outputs": [],
   "source": [
    "OLS3 = smf.ols('deathspercap ~ series + pop', data=df).fit()\n",
    "print(\"AIC is\", OLS3.aic)\n",
    "print(\"BIS is\", OLS3.bic)\n",
    "print(\"R-Squared is\", OLS3.rsquared_adj)\n",
    "print(OLS3.summary())"
   ]
  },
  {
   "cell_type": "code",
   "execution_count": null,
   "id": "21ad47e8",
   "metadata": {},
   "outputs": [],
   "source": [
    "OLS3 = smf.ols('deathspercap ~ booster + pop', data=df).fit()\n",
    "print(\"AIC is\", OLS3.aic)\n",
    "print(\"BIS is\", OLS3.bic)\n",
    "print(\"R-Squared is\", OLS3.rsquared_adj)\n",
    "print(OLS3.summary())"
   ]
  },
  {
   "cell_type": "code",
   "execution_count": null,
   "id": "cc1d9765",
   "metadata": {},
   "outputs": [],
   "source": [
    "df = pd.DataFrame(list(zip(county, deathspercap, dose1, series, booster, pop, hsgrad, homeownership, under5, over65, female, black, white, percapincome, density, age, ruralurban)),\n",
    "               columns =['county','deathspercap', 'dose1','series','booster','pop', 'hsgrad', 'homeownership', 'under5', 'over65', 'female', 'black', 'white', 'percapitaincome', 'density', 'age', 'ruralurban'])"
   ]
  },
  {
   "cell_type": "code",
   "execution_count": null,
   "id": "8e06078a",
   "metadata": {},
   "outputs": [],
   "source": [
    "g = sns.lmplot(\n",
    "    data=df,\n",
    "    x=\"booster\", y=\"deathspercap\", hue=\"ruralurban\",\n",
    "    height=5\n",
    ")"
   ]
  },
  {
   "cell_type": "code",
   "execution_count": null,
   "id": "e9b5a1d9",
   "metadata": {},
   "outputs": [],
   "source": [
    "df = pd.DataFrame(list(zip(county, deathspercap, dose1, series, booster, pop, hsgrad, homeownership, under5, over65, female, black, white, percapincome, density, age)),\n",
    "               columns =['county','deathspercap', 'dose1','series','booster','pop', 'hsgrad', 'homeownership', 'under5', 'over65', 'female', 'black', 'white', 'percapitaincome', 'density', 'age'])"
   ]
  },
  {
   "cell_type": "markdown",
   "id": "a6f6f8af",
   "metadata": {},
   "source": [
    "LASSO"
   ]
  },
  {
   "cell_type": "code",
   "execution_count": null,
   "id": "01302695",
   "metadata": {},
   "outputs": [],
   "source": [
    "df"
   ]
  },
  {
   "cell_type": "code",
   "execution_count": null,
   "id": "dc3486ff",
   "metadata": {},
   "outputs": [],
   "source": [
    "varname=list(df.iloc[:,2:16].columns)\n",
    "print(varname)\n",
    "df=df.dropna()\n",
    "df2 = df.iloc[:,1:].values\n",
    "\n",
    "Y = df2[0:2585,:1] #\n",
    "X = df2[0:2585,1:16]"
   ]
  },
  {
   "cell_type": "code",
   "execution_count": null,
   "id": "4e763b7f",
   "metadata": {},
   "outputs": [],
   "source": [
    "Y"
   ]
  },
  {
   "cell_type": "code",
   "execution_count": null,
   "id": "3d34dffe",
   "metadata": {},
   "outputs": [],
   "source": [
    "X"
   ]
  },
  {
   "cell_type": "code",
   "execution_count": null,
   "id": "0a84ce6e",
   "metadata": {},
   "outputs": [],
   "source": [
    "np.shape(X)"
   ]
  },
  {
   "cell_type": "code",
   "execution_count": null,
   "id": "630279e0",
   "metadata": {},
   "outputs": [],
   "source": [
    "np.shape(Y)"
   ]
  },
  {
   "cell_type": "code",
   "execution_count": null,
   "id": "dc255c30",
   "metadata": {},
   "outputs": [],
   "source": [
    "print(np.any(np.isnan(X)))\n",
    "print(np.all(np.isfinite(X)))"
   ]
  },
  {
   "cell_type": "code",
   "execution_count": null,
   "id": "e19854d6",
   "metadata": {},
   "outputs": [],
   "source": [
    "from sklearn.preprocessing import StandardScaler #usually, we want to standardize to put in terms of standard deviations. to minimize iimpact of measurement\n",
    "SC = StandardScaler()\n",
    "SC.fit(X) \n",
    "Xn=SC.transform(X) #use these statistic to standardize. Xn contains standardized x variables"
   ]
  },
  {
   "cell_type": "code",
   "execution_count": null,
   "id": "49a78b8a",
   "metadata": {},
   "outputs": [],
   "source": [
    "from sklearn import linear_model\n",
    "las1 = linear_model.Lasso(alpha=.05).fit(Xn,Y) # alpha is the tuning parameter\n",
    "#alpha is lamda here. include X and Y"
   ]
  },
  {
   "cell_type": "code",
   "execution_count": null,
   "id": "325a0197",
   "metadata": {},
   "outputs": [],
   "source": [
    "print(las1.coef_)\n",
    "#later we'll do many lamda values. here we use one lamda value"
   ]
  },
  {
   "cell_type": "markdown",
   "id": "2c0845f2",
   "metadata": {},
   "source": [
    "Computation of Lasso solution path"
   ]
  },
  {
   "cell_type": "code",
   "execution_count": null,
   "id": "05946bd9",
   "metadata": {},
   "outputs": [],
   "source": [
    "import matplotlib.pyplot as plt\n",
    "from sklearn.linear_model import lasso_path\n",
    "from itertools import cycle"
   ]
  },
  {
   "cell_type": "code",
   "execution_count": null,
   "id": "c4b5c3fb",
   "metadata": {},
   "outputs": [],
   "source": [
    "# Use \"eps\" to specify the length and density of the grid (eps = alpha_min / alpha_max)\n",
    "eps = 1e-10  \n",
    "alphas_lasso, coefs_lasso, _ = lasso_path(Xn, Y, eps = eps) #first, we need to select lamda values\n",
    "#eps is one of the parameters to use for finding which lamda values to use\n",
    "#eps chooses smallest lamda value\n",
    "#eps = lamda min/ lamda max\n",
    "#can use n_alphas to select number of alphas in regularization path\n",
    "#alphas_lasso is lamdas that were used, coef is lasso estimates"
   ]
  },
  {
   "cell_type": "code",
   "execution_count": null,
   "id": "50f4d500",
   "metadata": {},
   "outputs": [],
   "source": [
    "coefs_lasso = coefs_lasso[0]"
   ]
  },
  {
   "cell_type": "code",
   "execution_count": null,
   "id": "858d30f2",
   "metadata": {},
   "outputs": [],
   "source": [
    "coefs_lasso"
   ]
  },
  {
   "cell_type": "code",
   "execution_count": null,
   "id": "3386ee49",
   "metadata": {},
   "outputs": [],
   "source": [
    "# Display the solution path\n",
    "plt.figure(figsize=(8, 7), dpi=80) #define figure size\n",
    "colors = cycle(['b', 'r', 'g', 'c','m', 'y', 'k']) #coloring lines. iterates colors. k is black\n",
    "\n",
    "# Take the log of the alpha values to adjust the scale of X-axis\n",
    "log_alphas_lasso = np.log10(alphas_lasso) #taking log of lamdas\n",
    "\n",
    "# Use a for-loop to plot several paths on a figure \n",
    "for coef_l, c, vn in zip(coefs_lasso, colors, varname): #zip holds these functions temperarly. coeff lasso is parameter estimate, colors is the colors, varname is variable name.\n",
    "    l1 = plt.plot(log_alphas_lasso, coef_l, c=c, label=vn) #drawing lines. coefff lasso starts with first row. \n",
    "    #in first iteragtion, selects first row of this object. then first item in color. variable name will be variable name.\n",
    "    \n",
    "plt.xlabel('Log(alpha)')\n",
    "plt.ylabel('Coefficient Estimtes')\n",
    "plt.title('Lasso Solution Path')\n",
    "plt.legend()\n",
    "plt.savefig('lassopath.png')\n",
    "plt.show()\n",
    "#log alpha negative because they're small numbers."
   ]
  },
  {
   "cell_type": "markdown",
   "id": "f5755111",
   "metadata": {},
   "source": [
    "Selection of a Tuning Parameter Value in the LASSO using cv/bic/aic"
   ]
  },
  {
   "cell_type": "markdown",
   "id": "2bf2cf25",
   "metadata": {},
   "source": [
    "cross validation"
   ]
  },
  {
   "cell_type": "code",
   "execution_count": null,
   "id": "dba272e2",
   "metadata": {},
   "outputs": [],
   "source": [
    "from sklearn.linear_model import LassoLarsCV, LassoLarsIC\n",
    "import time"
   ]
  },
  {
   "cell_type": "code",
   "execution_count": null,
   "id": "44c30fd8",
   "metadata": {},
   "outputs": [],
   "source": [
    "t1 = time.time() # Get the current time\n",
    "lascv = LassoLarsCV(cv=5).fit(Xn, Y) #how many chunks you break the data into. use 5 or 10 folds, include x and y\n",
    "t_lasso_lars_cv = time.time() - t1 # Calculate running time"
   ]
  },
  {
   "cell_type": "code",
   "execution_count": null,
   "id": "6575a10f",
   "metadata": {},
   "outputs": [],
   "source": [
    "# Display the results\n",
    "eps = 5e-10\n",
    "lascv_log_alphas = np.log10(lascv.cv_alphas_ + eps)  #result variable.cv alphas is lamdas. alpha (singular) is lamda that is optimal. eps is different from what we used before. eps is just small number. include zero because taki9ng log of zero creates error\n",
    "lascv_log_alpha = np.log10(lascv.alpha_) #log of lamda that minimized MSE\n",
    "# Caution: lascv.alphas contains the alpha at the lowest MSE whereas lascv.cv_alphas_ contains the set of alphas used in the path\n",
    "# The smallest value in lascv.cv_alphas_ is 0 so we add eps (a small number) to avoid log(0)\n",
    "\n",
    "plt.figure(figsize=(8, 7), dpi=80)\n",
    "plt.plot(lascv_log_alphas, lascv.mse_path_.mean(axis=1), 'k',\n",
    "         label='Average of the MSEs over the Folds', linewidth=2)\n",
    "plt.axvline(lascv_log_alpha, linestyle='--', color='k', #add verticle line at optimal lamda\n",
    "            label='alpha selected by CV')\n",
    "print(lascv_log_alpha)\n",
    "plt.legend()\n",
    "\n",
    "plt.xlabel('Log(alpha)')\n",
    "plt.ylabel('Mean Square Error')\n",
    "plt.title('Model Selection by Cross Validation (train time: %.2fs)'\n",
    "          % t_lasso_lars_cv)\n",
    "plt.show()"
   ]
  },
  {
   "cell_type": "code",
   "execution_count": null,
   "id": "2217cd36",
   "metadata": {},
   "outputs": [],
   "source": [
    "print(varname[0:5])\n",
    "print(varname[6:-1])\n",
    "print(lascv.coef_)"
   ]
  },
  {
   "cell_type": "markdown",
   "id": "029191ae",
   "metadata": {},
   "source": [
    "'dose1','series','booster','pop', 'hsgrad', 'homeownership', 'under5', 'over65', 'female', 'black', 'white', 'percapitaincome', 'density', 'age'\n",
    "\n",
    "deathspercap = intercept + 0 dose1 - 0.01533543 series + 0.00138256 booster - 0.00419773 pop + 0.01136944 hsgrad - 0.00768059 homeownership + 0.00605874 under5 + 0.00721449 over 65 - 0.00741574 female - 0.01255417 black - 0.02037425 white - 0.00223745 percapitaincome - 0.00020098 density + 0.01366274 age"
   ]
  },
  {
   "cell_type": "markdown",
   "id": "ec1b6379",
   "metadata": {},
   "source": [
    "aic and bic"
   ]
  },
  {
   "cell_type": "code",
   "execution_count": 17,
   "id": "a8a96c34",
   "metadata": {},
   "outputs": [
    {
     "ename": "NameError",
     "evalue": "name 'LassoLarsIC' is not defined",
     "output_type": "error",
     "traceback": [
      "\u001B[0;31m---------------------------------------------------------------------------\u001B[0m",
      "\u001B[0;31mNameError\u001B[0m                                 Traceback (most recent call last)",
      "Cell \u001B[0;32mIn[17], line 1\u001B[0m\n\u001B[0;32m----> 1\u001B[0m lasic_bic \u001B[38;5;241m=\u001B[39m \u001B[43mLassoLarsIC\u001B[49m(criterion\u001B[38;5;241m=\u001B[39m\u001B[38;5;124m'\u001B[39m\u001B[38;5;124mbic\u001B[39m\u001B[38;5;124m'\u001B[39m)\u001B[38;5;241m.\u001B[39mfit(Xn, Y) \u001B[38;5;66;03m#specify which criterian. plug in x and y. store results in these two variables\u001B[39;00m\n\u001B[1;32m      2\u001B[0m lasic_aic \u001B[38;5;241m=\u001B[39m LassoLarsIC(criterion\u001B[38;5;241m=\u001B[39m\u001B[38;5;124m'\u001B[39m\u001B[38;5;124maic\u001B[39m\u001B[38;5;124m'\u001B[39m)\u001B[38;5;241m.\u001B[39mfit(Xn, Y)\n",
      "\u001B[0;31mNameError\u001B[0m: name 'LassoLarsIC' is not defined"
     ]
    }
   ],
   "source": [
    "lasic_bic = LassoLarsIC(criterion='bic').fit(Xn, Y) #specify which criterian. plug in x and y. store results in these two variables\n",
    "lasic_aic = LassoLarsIC(criterion='aic').fit(Xn, Y)"
   ]
  },
  {
   "cell_type": "code",
   "execution_count": null,
   "id": "504f7208",
   "metadata": {},
   "outputs": [],
   "source": [
    "# Display results\n",
    "# make a fn to produce figures with the same features repeatedly\n",
    "def plot_ic_criterion(model, name, color): \n",
    "    alpha_ = model.alpha_ + eps #optimal lamda\n",
    "    alphas_ = model.alphas_ + eps #lamdas that were used in this function\n",
    "    criterion_ = model.criterion_ # BIC or AIC values over the alpha values\n",
    "    plt.plot(np.log10(alphas_), criterion_, '--', color=color,\n",
    "             linewidth=3, label='%s' % name)\n",
    "    plt.axvline(np.log10(alpha_), color=color, linewidth=3, #adding vertical line\n",
    "                label='$\\lambda$ selected by %s ' % name)\n",
    "    plt.xlabel('Log($\\lambda$)')\n",
    "    plt.ylabel('Criterion Value')\n",
    "    \n",
    "\n",
    "plt.figure(figsize=(8, 7), dpi=80)\n",
    "plot_ic_criterion(lasic_aic, 'AIC', 'b') #line is AIC result\n",
    "plot_ic_criterion(lasic_bic, 'BIC', 'r') #line is BIC result\n",
    "plt.legend()\n",
    "plt.title('Model Selection by Information Criteria')\n",
    "#plt.show()\n",
    "plt.savefig('lasso.png')"
   ]
  },
  {
   "cell_type": "code",
   "execution_count": null,
   "id": "09122cc0",
   "metadata": {},
   "outputs": [],
   "source": [
    "print(varname)\n",
    "print(\"aic model is\",lasic_aic.coef_)\n",
    "print(\"bic model is\",lasic_bic.coef_)"
   ]
  },
  {
   "cell_type": "markdown",
   "id": "8063a78a",
   "metadata": {},
   "source": [
    "Forwards and Backwards Selection"
   ]
  },
  {
   "cell_type": "code",
   "execution_count": 18,
   "id": "80a13e7a",
   "metadata": {},
   "outputs": [
    {
     "ename": "NameError",
     "evalue": "name 'X' is not defined",
     "output_type": "error",
     "traceback": [
      "\u001B[0;31m---------------------------------------------------------------------------\u001B[0m",
      "\u001B[0;31mNameError\u001B[0m                                 Traceback (most recent call last)",
      "Cell \u001B[0;32mIn[18], line 1\u001B[0m\n\u001B[0;32m----> 1\u001B[0m ncol\u001B[38;5;241m=\u001B[39m\u001B[43mX\u001B[49m\u001B[38;5;241m.\u001B[39mshape[\u001B[38;5;241m1\u001B[39m]\n\u001B[1;32m      2\u001B[0m ncol\n",
      "\u001B[0;31mNameError\u001B[0m: name 'X' is not defined"
     ]
    }
   ],
   "source": [
    "ncol=X.shape[1]\n",
    "ncol"
   ]
  },
  {
   "cell_type": "code",
   "execution_count": null,
   "id": "f330c9b4",
   "metadata": {},
   "outputs": [],
   "source": [
    "pcand = list(range(ncol)) # A list to keep track of the remaining predictors (i.e., not yet added) at each iteration\n",
    "psel = [] # A list to keep track of the selected predictors at each iteration (the order of the selected predictors)\n",
    "tb = np.zeros(ncol) # A vector to store the BIC of the selected model (combination) at each iteration\n",
    "p = 0 # Iteration idex\n",
    "print(pcand)\n",
    "\n",
    "while len(psel) != ncol: # Repeat below until the model includes all the predictors\n",
    "    tb0 = np.zeros((len(pcand),2)) # Store the Rsquare(s) and BIC(s) of the models considered at each iteration\n",
    "\n",
    "    for i in range(0,len(pcand)):\n",
    "        psel0 = psel + [pcand[i]] # \"psel0\" is a temporary version of psel which includes one of the predictors in pcan and those in psel\n",
    "        # Caution: \"+\" combines two lists, but not a list and an integer (i.e pcan[i])\n",
    "        XX = X[:,psel0]\n",
    "        XX = sm.add_constant(XX)\n",
    "        model = sm.OLS(Y, XX)\n",
    "        res = model.fit()\n",
    "        tb0[i,:] = [res.rsquared, res.bic]\n",
    "    \n",
    "    ind = np.argmax(tb0[:,0]) # Find the regressor that results in the largest Rsquare when added to the model\n",
    "    psel = psel + [pcand[ind]] # Add the selected regressor to psel\n",
    "    pcand.remove(pcand[ind]) # Remove the selected regressor from pcand\n",
    "    tb[p] =  tb0[ind,1] # Store the BIC of the selected model at this iteration\n",
    "    p += 1"
   ]
  },
  {
   "cell_type": "code",
   "execution_count": null,
   "id": "6f3e5380",
   "metadata": {},
   "outputs": [],
   "source": [
    "psel"
   ]
  },
  {
   "cell_type": "code",
   "execution_count": null,
   "id": "5c7ce485",
   "metadata": {},
   "outputs": [],
   "source": [
    "selected = psel[:(np.argmin(tb)+1)]\n",
    "for i in selected:\n",
    "    print(varname[i])"
   ]
  },
  {
   "cell_type": "code",
   "execution_count": null,
   "id": "f5038213",
   "metadata": {},
   "outputs": [],
   "source": [
    "OLS3 = smf.ols('deathspercap ~ homeownership + female + over65 + booster + age + white', data=df).fit()\n",
    "print(\"AIC is\", OLS3.aic)\n",
    "print(\"BIS is\", OLS3.bic)\n",
    "print(\"R-Squared is\", OLS3.rsquared_adj)\n",
    "print(OLS3.summary())"
   ]
  },
  {
   "cell_type": "code",
   "execution_count": null,
   "id": "4c348b25",
   "metadata": {},
   "outputs": [],
   "source": [
    "tb"
   ]
  },
  {
   "cell_type": "code",
   "execution_count": null,
   "id": "91cb4204",
   "metadata": {},
   "outputs": [],
   "source": [
    "pcand = list(range(ncol)) # A list to keep track of the remaining predictors (i.e., not yet added) at each iteration\n",
    "psel = list(range(ncol)) # A list to keep track of the selected predictors at each iteration (the order of the selected predictors)\n",
    "tb = np.zeros(ncol) # A vector to store the BIC of the selected model (combination) at each iteration\n",
    "p = 0 # Iteration idex\n",
    "removelist = []\n",
    "\n",
    "\n",
    "while p != ncol: # Repeat below until the model includes all the predictors\n",
    "    tb0 = np.zeros((len(pcand),2)) # Store the Rsquare(s) and BIC(s) of the models considered at each iteration\n",
    "\n",
    "    for i in range(0,len(pcand)):\n",
    "        psel0 = psel\n",
    "        #np.delete(psel0, pcand[i])\n",
    "        psel0.remove(pcand[i])\n",
    "        #psel0 = psel + [pcand[i]] # \"psel0\" is a temporary version of psel which includes one of the predictors in pcan and those in psel\n",
    "        # Caution: \"+\" combines two lists, but not a list and an integer (i.e pcan[i])\n",
    "        XX = X[:,psel0]\n",
    "        XX = sm.add_constant(XX)\n",
    "        model = sm.OLS(Y, XX)\n",
    "        res = model.fit()\n",
    "        tb0[i,:] = [res.rsquared, res.bic]\n",
    "        psel.insert(0, pcand[i])\n",
    "        psel.sort()\n",
    "\n",
    "\n",
    "        #psel = psel + [pcand[i]]\n",
    "        \n",
    "    \n",
    "    ind = np.argmax(tb0[:,0]) # Find the regressor that results in the largest Rsquare when added to the model\n",
    "    psel.remove(pcand[ind])\n",
    "    \n",
    "    removelist.append(pcand[ind])\n",
    "    pcand.remove(pcand[ind]) # Remove the selected regressor from pcand\n",
    "    tb[p] =  tb0[ind,1] # Store the BIC of the selected model at this iteration\n",
    "    p += 1"
   ]
  },
  {
   "cell_type": "code",
   "execution_count": null,
   "id": "2737c2f7",
   "metadata": {},
   "outputs": [],
   "source": [
    "tb"
   ]
  },
  {
   "cell_type": "code",
   "execution_count": null,
   "id": "9846b501",
   "metadata": {},
   "outputs": [],
   "source": [
    "removelist[:(np.argmin(tb)+1)]"
   ]
  },
  {
   "cell_type": "code",
   "execution_count": null,
   "id": "d671740e",
   "metadata": {},
   "outputs": [],
   "source": [
    "removelist"
   ]
  },
  {
   "cell_type": "markdown",
   "id": "ba521073",
   "metadata": {},
   "source": [
    "K-Means Clustering"
   ]
  },
  {
   "cell_type": "code",
   "execution_count": 19,
   "id": "2e0b1415",
   "metadata": {},
   "outputs": [
    {
     "ename": "NameError",
     "evalue": "name 'df' is not defined",
     "output_type": "error",
     "traceback": [
      "\u001B[0;31m---------------------------------------------------------------------------\u001B[0m",
      "\u001B[0;31mNameError\u001B[0m                                 Traceback (most recent call last)",
      "Cell \u001B[0;32mIn[19], line 1\u001B[0m\n\u001B[0;32m----> 1\u001B[0m X\u001B[38;5;241m=\u001B[39m\u001B[43mdf\u001B[49m\u001B[38;5;241m.\u001B[39miloc[:,\u001B[38;5;241m2\u001B[39m:\u001B[38;5;241m5\u001B[39m]\n\u001B[1;32m      2\u001B[0m X\n",
      "\u001B[0;31mNameError\u001B[0m: name 'df' is not defined"
     ]
    }
   ],
   "source": [
    "X=df.iloc[:,2:5]\n",
    "X"
   ]
  },
  {
   "cell_type": "code",
   "execution_count": null,
   "id": "95f24421",
   "metadata": {},
   "outputs": [],
   "source": [
    "from sklearn.cluster import KMeans\n",
    "KMres = KMeans(n_clusters=3, random_state=0).fit(X)\n",
    "y_pred = KMres.predict(X)"
   ]
  },
  {
   "cell_type": "code",
   "execution_count": null,
   "id": "8a69763b",
   "metadata": {},
   "outputs": [],
   "source": [
    "y_pred "
   ]
  },
  {
   "cell_type": "code",
   "execution_count": null,
   "id": "1c429fc5",
   "metadata": {},
   "outputs": [],
   "source": [
    "X.iloc[:,0]"
   ]
  },
  {
   "cell_type": "code",
   "execution_count": null,
   "id": "81eba76d",
   "metadata": {},
   "outputs": [],
   "source": [
    "# Visualization\n",
    "import matplotlib.pyplot as plt\n",
    "\n",
    "plt.figure(figsize=(12, 10))\n",
    "plt.scatter(X.iloc[:,0], X.iloc[:,1], c=y_pred) \n",
    "\n",
    "    \n",
    "plt.xlabel('Dose 1 Percentage ',fontsize = 15)\n",
    "plt.ylabel('Series Percentage',fontsize = 15)\n",
    "plt.title('Groups by Dose 1 Percentage and Series Percentage',fontsize = 15)\n",
    "    \n",
    "plt.show()"
   ]
  },
  {
   "cell_type": "code",
   "execution_count": null,
   "id": "08cd2c70",
   "metadata": {},
   "outputs": [],
   "source": [
    "plt.figure(figsize=(18, 18))\n",
    "\n",
    "for i in range(1,5):\n",
    "    plt.subplot(2,2,i)\n",
    "    KMres = KMeans(n_clusters=i+1, random_state=0).fit(X)\n",
    "    y_pred = KMres.predict(X)\n",
    "    \n",
    "    plt.scatter(X.iloc[:,0], X.iloc[:,1], c=y_pred)\n",
    "    plt.title(\"# of Clusters = %d\" %(i+1))\n",
    "    \n",
    "    #for i, txt in enumerate(df.iloc[:, 0]):\n",
    "        #plt.annotate(txt, (X.iloc[i,0], X.iloc[i,1]),size=10)\n",
    "        \n",
    "plt.show()"
   ]
  },
  {
   "cell_type": "markdown",
   "id": "ab28853a",
   "metadata": {},
   "source": [
    "Dendogram"
   ]
  },
  {
   "cell_type": "code",
   "execution_count": 20,
   "id": "8d94b2f0",
   "metadata": {},
   "outputs": [
    {
     "ename": "ImportError",
     "evalue": "The `scipy` install you are using seems to be broken, (extension modules cannot be imported), please try reinstalling.",
     "output_type": "error",
     "traceback": [
      "\u001B[0;31m---------------------------------------------------------------------------\u001B[0m",
      "\u001B[0;31mImportError\u001B[0m                               Traceback (most recent call last)",
      "File \u001B[0;32m/Library/Frameworks/Python.framework/Versions/3.10/lib/python3.10/site-packages/scipy/__init__.py:154\u001B[0m\n\u001B[1;32m    153\u001B[0m \u001B[38;5;28;01mtry\u001B[39;00m:\n\u001B[0;32m--> 154\u001B[0m     \u001B[38;5;28;01mfrom\u001B[39;00m \u001B[38;5;21;01mscipy\u001B[39;00m\u001B[38;5;21;01m.\u001B[39;00m\u001B[38;5;21;01m_lib\u001B[39;00m\u001B[38;5;21;01m.\u001B[39;00m\u001B[38;5;21;01m_ccallback\u001B[39;00m \u001B[38;5;28;01mimport\u001B[39;00m LowLevelCallable\n\u001B[1;32m    155\u001B[0m \u001B[38;5;28;01mexcept\u001B[39;00m \u001B[38;5;167;01mImportError\u001B[39;00m \u001B[38;5;28;01mas\u001B[39;00m e:\n",
      "File \u001B[0;32m/Library/Frameworks/Python.framework/Versions/3.10/lib/python3.10/site-packages/scipy/_lib/_ccallback.py:1\u001B[0m\n\u001B[0;32m----> 1\u001B[0m \u001B[38;5;28;01mfrom\u001B[39;00m \u001B[38;5;21;01m.\u001B[39;00m \u001B[38;5;28;01mimport\u001B[39;00m _ccallback_c\n\u001B[1;32m      3\u001B[0m \u001B[38;5;28;01mimport\u001B[39;00m \u001B[38;5;21;01mctypes\u001B[39;00m\n",
      "\u001B[0;31mImportError\u001B[0m: dlopen(/Library/Frameworks/Python.framework/Versions/3.10/lib/python3.10/site-packages/scipy/_lib/_ccallback_c.cpython-310-darwin.so, 0x0002): tried: '/Library/Frameworks/Python.framework/Versions/3.10/lib/python3.10/site-packages/scipy/_lib/_ccallback_c.cpython-310-darwin.so' (mach-o file, but is an incompatible architecture (have 'x86_64', need 'arm64')), '/System/Volumes/Preboot/Cryptexes/OS/Library/Frameworks/Python.framework/Versions/3.10/lib/python3.10/site-packages/scipy/_lib/_ccallback_c.cpython-310-darwin.so' (no such file), '/Library/Frameworks/Python.framework/Versions/3.10/lib/python3.10/site-packages/scipy/_lib/_ccallback_c.cpython-310-darwin.so' (mach-o file, but is an incompatible architecture (have 'x86_64', need 'arm64'))",
      "\nThe above exception was the direct cause of the following exception:\n",
      "\u001B[0;31mImportError\u001B[0m                               Traceback (most recent call last)",
      "Cell \u001B[0;32mIn[20], line 1\u001B[0m\n\u001B[0;32m----> 1\u001B[0m \u001B[38;5;28;01mfrom\u001B[39;00m \u001B[38;5;21;01mscipy\u001B[39;00m\u001B[38;5;21;01m.\u001B[39;00m\u001B[38;5;21;01mcluster\u001B[39;00m \u001B[38;5;28;01mimport\u001B[39;00m hierarchy\n\u001B[1;32m      3\u001B[0m Z \u001B[38;5;241m=\u001B[39m hierarchy\u001B[38;5;241m.\u001B[39mlinkage(X, \u001B[38;5;124m'\u001B[39m\u001B[38;5;124mcomplete\u001B[39m\u001B[38;5;124m'\u001B[39m) \n\u001B[1;32m      5\u001B[0m plt\u001B[38;5;241m.\u001B[39mfigure(figsize\u001B[38;5;241m=\u001B[39m(\u001B[38;5;241m25\u001B[39m, \u001B[38;5;241m10\u001B[39m))\n",
      "File \u001B[0;32m/Library/Frameworks/Python.framework/Versions/3.10/lib/python3.10/site-packages/scipy/__init__.py:159\u001B[0m\n\u001B[1;32m    155\u001B[0m \u001B[38;5;28;01mexcept\u001B[39;00m \u001B[38;5;167;01mImportError\u001B[39;00m \u001B[38;5;28;01mas\u001B[39;00m e:\n\u001B[1;32m    156\u001B[0m     msg \u001B[38;5;241m=\u001B[39m \u001B[38;5;124m\"\u001B[39m\u001B[38;5;124mThe `scipy` install you are using seems to be broken, \u001B[39m\u001B[38;5;124m\"\u001B[39m \u001B[38;5;241m+\u001B[39m \\\n\u001B[1;32m    157\u001B[0m           \u001B[38;5;124m\"\u001B[39m\u001B[38;5;124m(extension modules cannot be imported), \u001B[39m\u001B[38;5;124m\"\u001B[39m \u001B[38;5;241m+\u001B[39m \\\n\u001B[1;32m    158\u001B[0m           \u001B[38;5;124m\"\u001B[39m\u001B[38;5;124mplease try reinstalling.\u001B[39m\u001B[38;5;124m\"\u001B[39m\n\u001B[0;32m--> 159\u001B[0m     \u001B[38;5;28;01mraise\u001B[39;00m \u001B[38;5;167;01mImportError\u001B[39;00m(msg) \u001B[38;5;28;01mfrom\u001B[39;00m \u001B[38;5;21;01me\u001B[39;00m\n\u001B[1;32m    161\u001B[0m \u001B[38;5;28;01mfrom\u001B[39;00m \u001B[38;5;21;01mscipy\u001B[39;00m\u001B[38;5;21;01m.\u001B[39;00m\u001B[38;5;21;01m_lib\u001B[39;00m\u001B[38;5;21;01m.\u001B[39;00m\u001B[38;5;21;01m_testutils\u001B[39;00m \u001B[38;5;28;01mimport\u001B[39;00m PytestTester\n\u001B[1;32m    162\u001B[0m test \u001B[38;5;241m=\u001B[39m PytestTester(\u001B[38;5;18m__name__\u001B[39m)\n",
      "\u001B[0;31mImportError\u001B[0m: The `scipy` install you are using seems to be broken, (extension modules cannot be imported), please try reinstalling."
     ]
    }
   ],
   "source": [
    "from scipy.cluster import hierarchy\n",
    "\n",
    "Z = hierarchy.linkage(X, 'complete') \n",
    "\n",
    "plt.figure(figsize=(25, 10))\n",
    "hierarchy.dendrogram(Z,\n",
    "                     #leaf_rotation=90,  # rotate the labels on X-axis\n",
    "                     #leaf_font_size=12,\n",
    "                     )\n",
    "                     \n",
    "plt.title('Hierarchical Clustering on Vaccine Administered Type', size=20)           \n",
    "plt.show()"
   ]
  },
  {
   "cell_type": "code",
   "execution_count": null,
   "id": "f1faba4b",
   "metadata": {},
   "outputs": [],
   "source": [
    "plt.figure(figsize=(25, 10))\n",
    "hierarchy.dendrogram(Z,\n",
    "                     truncate_mode='level', # The other option: 'lastp' - show only p branches\n",
    "                     p = 5, # number of clusters\n",
    "                     leaf_rotation=90,\n",
    "                     leaf_font_size=12,\n",
    "                     \n",
    "                     )\n",
    "                     \n",
    "plt.title('Hierarchical Clustering on Vaccine Administered Type with five clusters', size=20)          \n",
    "plt.show()"
   ]
  },
  {
   "cell_type": "code",
   "execution_count": null,
   "id": "53538c98",
   "metadata": {},
   "outputs": [],
   "source": [
    "plt.figure(figsize=(10, 10))\n",
    "from matplotlib import gridspec\n",
    "\n",
    "#f = plt.figure(figsize=(10,3))\n",
    "#ax = f.add_subplot(121)\n",
    "\n",
    "for i in range(1,7):\n",
    "    \n",
    "    plt.subplot(2,3,i)\n",
    "    \n",
    "    if i == 1:\n",
    "        Z = hierarchy.linkage(X, 'single') \n",
    "    elif i == 2:\n",
    "        Z = hierarchy.linkage(X, 'complete') \n",
    "    elif i == 3:\n",
    "        Z = hierarchy.linkage(X, 'average') \n",
    "    elif i == 4:\n",
    "        Z = hierarchy.linkage(X, 'weighted') \n",
    "    elif i == 5:\n",
    "        Z = hierarchy.linkage(X, 'centroid')\n",
    "    elif i == 6:\n",
    "        Z = hierarchy.linkage(X, 'ward') \n",
    "    \n",
    "\n",
    "\n",
    "    hierarchy.dendrogram(Z,\n",
    "                         leaf_rotation=90,  # rotate the labels on X-axis\n",
    "                         leaf_font_size=.2,\n",
    "                         )\n",
    "\n",
    "    \n",
    "    if i == 1:\n",
    "        plt.title('Hierarchical Clustering on Vaccine Administered Type (single)', size=7)  \n",
    "    elif i == 2:\n",
    "        plt.title('Hierarchical Clustering on Vaccine Administered Type (complete)', size=7)\n",
    "    elif i == 3:\n",
    "        plt.title('Hierarchical Clustering on Vaccine Administered Type (average)', size=7) \n",
    "    elif i == 4:\n",
    "        plt.title('Hierarchical Clustering on Vaccine Administered Type (weighted)', size=7)  \n",
    "    elif i == 5:\n",
    "        plt.title('Hierarchical Clustering on Vaccine Administered Type (centroid)', size=7) \n",
    "    elif i == 6:\n",
    "        plt.title('Hierarchical Clustering on Vaccine Administered Type (ward)', size=7) \n",
    "        \n",
    "plt.show()"
   ]
  },
  {
   "cell_type": "markdown",
   "id": "afddc14e",
   "metadata": {},
   "source": [
    "Making dummy groups"
   ]
  },
  {
   "cell_type": "code",
   "execution_count": null,
   "id": "978651e6",
   "metadata": {},
   "outputs": [],
   "source": [
    "kmeans = KMeans(n_clusters=3, random_state=0).fit(X)\n",
    "print(kmeans.labels_)\n",
    "print(np.shape(X))\n",
    "dummies = X.iloc[0:X.shape[0],1:4]\n",
    "ncol=X.shape[0]\n",
    "print(\"ncol\", ncol)\n",
    "x=0\n",
    "z=0\n",
    "for n in range(X.shape[0]):\n",
    "    dummies.iloc[n,0] = kmeans.labels_[n]\n",
    "print(dummies)\n",
    "    "
   ]
  },
  {
   "cell_type": "code",
   "execution_count": null,
   "id": "0d7953cc",
   "metadata": {},
   "outputs": [],
   "source": [
    "for n in range(X.shape[0]):\n",
    "    dummies.iloc[n,1] = 0\n",
    "    if dummies.iloc[n,0] == 2:\n",
    "        dummies.iloc[n,0] = 0\n",
    "        dummies.iloc[n,1] = 1"
   ]
  },
  {
   "cell_type": "code",
   "execution_count": null,
   "id": "f0598727",
   "metadata": {},
   "outputs": [],
   "source": [
    "print(dummies)"
   ]
  },
  {
   "cell_type": "code",
   "execution_count": null,
   "id": "44b79d62",
   "metadata": {},
   "outputs": [],
   "source": [
    "group2 = []\n",
    "group3 = []\n",
    "for n in range(X.shape[0]):\n",
    "    group2.append(dummies.iloc[n,0])\n",
    "    group3.append(dummies.iloc[n,1])"
   ]
  },
  {
   "cell_type": "code",
   "execution_count": null,
   "id": "bf629a8c",
   "metadata": {},
   "outputs": [],
   "source": [
    "df = pd.DataFrame(list(zip(deathspercap, group2, group3)),\n",
    "               columns =['deathspercap','group2', 'group3'])"
   ]
  },
  {
   "cell_type": "markdown",
   "id": "5e63b3f9",
   "metadata": {},
   "source": [
    "Running regression based off dummy groups"
   ]
  },
  {
   "cell_type": "code",
   "execution_count": null,
   "id": "7ae958b5",
   "metadata": {},
   "outputs": [],
   "source": [
    "OLS3 = smf.ols('deathspercap ~ group2 + group3', data=df).fit()\n",
    "print(\"AIC is\", OLS3.aic)\n",
    "print(\"BIS is\", OLS3.bic)\n",
    "print(\"R-Squared is\", OLS3.rsquared_adj)\n",
    "print(OLS3.summary())"
   ]
  },
  {
   "cell_type": "code",
   "execution_count": null,
   "id": "36613cec",
   "metadata": {},
   "outputs": [],
   "source": [
    "kmeans = KMeans(n_clusters=5, random_state=0).fit(X)\n",
    "dummies = df.iloc[0:X.shape[0],1:6]\n",
    "ncol=X.shape[0]\n",
    "for n in range(X.shape[0]):\n",
    "    dummies.iloc[n,0] = kmeans.labels_[n]\n",
    "for n in range(X.shape[0]):\n",
    "    if dummies.iloc[n,0] == 0:\n",
    "        dummies.loc[n,0] = 0\n",
    "        dummies.loc[n,1] = 0\n",
    "        dummies.loc[n,2] = 0\n",
    "        dummies.loc[n,3] = 0\n",
    "    elif dummies.iloc[n,0] == 1:\n",
    "        dummies.iloc[n,0] = 1\n",
    "        dummies.iloc[n,1] = 0\n",
    "        dummies.iloc[n,2] = 0\n",
    "        dummies.iloc[n,3] = 0\n",
    "    elif dummies.iloc[n,0] == 2:\n",
    "        dummies.iloc[n,0] = 0\n",
    "        dummies.iloc[n,1] = 1\n",
    "        dummies.iloc[n,2] = 0\n",
    "        dummies.iloc[n,3] = 0\n",
    "    elif dummies.iloc[n,0] == 3:\n",
    "        dummies.iloc[n,0] = 0\n",
    "        dummies.iloc[n,1] = 0\n",
    "        dummies.iloc[n,2] = 1\n",
    "        dummies.iloc[n,3] = 0\n",
    "    elif dummies.iloc[n,0] == 4:\n",
    "        dummies.iloc[n,0] = 0\n",
    "        dummies.iloc[n,1] = 0\n",
    "        dummies.loc[n,2] = 0\n",
    "        dummies.loc[n,3] = 1\n",
    "    else:\n",
    "        print(\"error: n out of range\")\n",
    "group2 = []\n",
    "group3 = []\n",
    "group4 = []\n",
    "group5 = []\n",
    "for n in range(X.shape[0]):\n",
    "    group2.append(dummies.iloc[n,0])\n",
    "    group3.append(dummies.iloc[n,1])\n",
    "    group4.append(dummies.iloc[n,2])\n",
    "    group5.append(dummies.iloc[n,3])\n",
    "\n",
    "for n in range(X.shape[0]):\n",
    "    if dummies.iloc[n,0] == 3:\n",
    "        group4.append(dummies.iloc[n,1])\n",
    "    \n",
    "df = pd.DataFrame(list(zip(deathspercap, group2, group3, group4, group5)),\n",
    "               columns =['deathspercap','group2', 'group3', 'group4', 'group5'])\n",
    "OLS3 = smf.ols('deathspercap ~ group2 + group3 + group4 + group5', data=df).fit()\n",
    "print(\"AIC is\", OLS3.aic)\n",
    "print(\"BIS is\", OLS3.bic)\n",
    "print(\"R-Squared is\", OLS3.rsquared_adj)\n",
    "print(OLS3.summary())"
   ]
  },
  {
   "cell_type": "code",
   "execution_count": null,
   "id": "9257a509",
   "metadata": {},
   "outputs": [],
   "source": []
  }
 ],
 "metadata": {
  "kernelspec": {
   "display_name": "Python 3 (ipykernel)",
   "language": "python",
   "name": "python3"
  },
  "language_info": {
   "codemirror_mode": {
    "name": "ipython",
    "version": 3
   },
   "file_extension": ".py",
   "mimetype": "text/x-python",
   "name": "python",
   "nbconvert_exporter": "python",
   "pygments_lexer": "ipython3",
   "version": "3.9.12"
  }
 },
 "nbformat": 4,
 "nbformat_minor": 5
}
